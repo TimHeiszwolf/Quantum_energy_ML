{
 "cells": [
  {
   "cell_type": "markdown",
   "metadata": {},
   "source": [
    "# Importing"
   ]
  },
  {
   "cell_type": "markdown",
   "metadata": {},
   "source": [
    "## Importing modules"
   ]
  },
  {
   "cell_type": "code",
   "execution_count": 1,
   "metadata": {},
   "outputs": [
    {
     "name": "stderr",
     "output_type": "stream",
     "text": [
      "Using TensorFlow backend.\n"
     ]
    }
   ],
   "source": [
    "import numpy as np\n",
    "import matplotlib.pyplot as plt\n",
    "import pandas as pd\n",
    "from matplotlib.ticker import (AutoMinorLocator, MultipleLocator)\n",
    "import time\n",
    "import random\n",
    "import math\n",
    "from multiprocessing import Process, Queue\n",
    "\n",
    "import keras\n",
    "from keras.models import Sequential\n",
    "from keras.layers import Activation, Dense\n",
    "from keras.models import load_model\n",
    "from keras.optimizers import SGD, adam, adagrad, rmsprop\n"
   ]
  },
  {
   "cell_type": "markdown",
   "metadata": {},
   "source": [
    "## importing own code"
   ]
  },
  {
   "cell_type": "code",
   "execution_count": 2,
   "metadata": {},
   "outputs": [],
   "source": [
    "from generateSpace import *\n",
    "from plotLattice import *\n",
    "from getTriangleLengths import *\n",
    "from potentialEnergyPerTrio import *\n",
    "from potentialEnergy import *\n",
    "from potentialEnergyPerParticle import *\n",
    "from numberOfCalculations import *\n",
    "from makeRandomDatabase import *\n",
    "from prepareDatabaseForMachineLearning import*"
   ]
  },
  {
   "cell_type": "markdown",
   "metadata": {},
   "source": [
    "## Writing own code"
   ]
  },
  {
   "cell_type": "code",
   "execution_count": 3,
   "metadata": {},
   "outputs": [],
   "source": [
    "def trainNetwork(network, trainingData, validationSplit, numberOfEpochs=50, batchSize=32, verboseSetting=-1):\n",
    "    \"\"\"\n",
    "    hjhgj\n",
    "    \n",
    "    network is the Keras network to be trained.\n",
    "    trainingData is the data to be trained with. It is a tupple with the index zero being the input data and index one being the target/output value.\n",
    "    validationData is the data used to do validation.  It is a tupple with the index zero being the input data and index one being the target/output value.\n",
    "    numberOfEpochs is the number of epochs the model will train for default is 50.\n",
    "    batchSize is the size of the batches during gradiant decent defaul is 32.\n",
    "    verboseSettings are the verbose settings default is -1 (which does nothing), 0 results in plots and above that normal rules apply.\n",
    "    \"\"\"\n",
    "    \n",
    "    #print(np.shape(trainingData[0]))\n",
    "    #print(np.shape(trainingData[0][0]))\n",
    "    #print(np.shape(trainingData[1]))\n",
    "    \n",
    "    #print(trainingData[0])\n",
    "    \n",
    "    fitDetails = network.fit(trainingData[0], trainingData[1], shuffle=True, batch_size=batchSize, validation_split=validationSplit, epochs=numberOfEpochs, verbose=max(0,verboseSetting))\n",
    "    \n",
    "    history = {'loss': fitDetails.history['loss'], 'val_loss': fitDetails.history['val_loss']}\n",
    "    \n",
    "    if verboseSetting>=0:\n",
    "        \n",
    "        maximumValue = max(max(history['loss']), max(history['val_loss']))\n",
    "        minimumValue = min(min(history['loss']), min(history['val_loss'])) / 10#math.pow(math.floor(math.log(min(min(history['loss']), min(history['val_loss'])), 10)) - 1, 10)\n",
    "        \n",
    "        fig, ((ax1, ax2), (ax3, ax4)) = plt.subplots(nrows=2, ncols=2, figsize=(16, 16))\n",
    "        ax1.plot([i for i in range(1, numberOfEpochs + 1)], history['loss'], label='Training loss')\n",
    "        ax1.plot([i for i in range(1, numberOfEpochs + 1)], history['val_loss'], label='Validation loss')\n",
    "        ax1.legend()\n",
    "        ax1.set_xlim(1, numberOfEpochs)\n",
    "        ax1.set_ylim(0, maximumValue)\n",
    "        ax1.set_xlabel('Epochs')\n",
    "        ax1.set_ylabel('Loss')\n",
    "        ax1.set_title('Loss (training and validation) vs the number of epochs.')\n",
    "        \n",
    "        ax2.plot(history['loss'], history['val_loss'])\n",
    "        ax2.set_xlim(0, maximumValue)\n",
    "        ax2.set_ylim(0, maximumValue)\n",
    "        ax2.set_xlabel('Training loss')\n",
    "        ax2.set_ylabel('Validation loss')\n",
    "        ax2.set_title('Validation loss vs training loss.')\n",
    "        \n",
    "        ax3.plot([i for i in range(1, numberOfEpochs + 1)], history['loss'], label='Training loss')\n",
    "        ax3.plot([i for i in range(1, numberOfEpochs + 1)], history['val_loss'], label='Validation loss')\n",
    "        ax3.legend()\n",
    "        ax3.set_xlim(1, numberOfEpochs)\n",
    "        ax3.set_yscale('log')\n",
    "        ax3.set_ylim(minimumValue, maximumValue)\n",
    "        ax3.set_xlabel('Epochs')\n",
    "        ax3.set_ylabel('Loss')\n",
    "        ax3.set_title('Loss (training and validation) vs the number of epochs (logarithmic)')\n",
    "        \n",
    "        ax4.plot(history['loss'], history['val_loss'])\n",
    "        ax4.set_xscale('log')\n",
    "        ax4.set_xlim(minimumValue, maximumValue)\n",
    "        ax4.set_yscale('log')\n",
    "        ax4.set_ylim(minimumValue, maximumValue)\n",
    "        ax4.set_xlabel('Training loss')\n",
    "        ax4.set_ylabel('Validation loss')\n",
    "        ax4.set_title('Validation loss vs training loss (logarithmic).')\n",
    "        \n",
    "        math.pow(math.log(min(min(history['loss']), min(history['val_loss'])), 10), 10)\n",
    "        \n",
    "        plt.show()\n",
    "        history['figure'] = [fig, ax1, ax2, ax3, ax4]\n",
    "    \n",
    "    return history"
   ]
  },
  {
   "cell_type": "code",
   "execution_count": 4,
   "metadata": {},
   "outputs": [],
   "source": [
    "def makePredictionPlot(model, dataFrame, amountOfPoints=1000):\n",
    "    prediction = []\n",
    "    realValue = []\n",
    "    \n",
    "    for i in range(min(len(dataFrame['potentialEnergy']), amountOfPoints)):\n",
    "        index = dataFrame.index[i]\n",
    "        prediction.append(model.predict([[dataFrame['eigenvalues'][index]]])[0][0])\n",
    "        realValue.append(dataFrame['potentialEnergy'][index])\n",
    "    \n",
    "    fig, ((ax1)) = plt.subplots(nrows=1, ncols=1, figsize=(8, 8))\n",
    "    ax1.scatter(realValue, prediction, s=5)\n",
    "    ax1.set_xlim(min(min(prediction), min(realValue)), max(max(prediction), max(realValue)))\n",
    "    ax1.set_ylim(min(min(prediction), min(realValue)), max(max(prediction), max(realValue)))\n",
    "    ax1.set_xlabel('Real energy')\n",
    "    ax1.set_ylabel('Predicted energy')\n",
    "    ax1.set_title('Predicted energy vs real energy.')\n",
    "    \n",
    "    plt.show()\n",
    "    "
   ]
  },
  {
   "cell_type": "code",
   "execution_count": 5,
   "metadata": {},
   "outputs": [],
   "source": [
    "def plotAndPredict(model, dataFrame, indexNumber):\n",
    "    prediction = model.predict([[dataFrame['eigenvalues'][indexNumber]]])[0][0]\n",
    "    realValue = dataFrame['potentialEnergy'][indexNumber]\n",
    "    \n",
    "    fig, ax = plotLatticeFromDataFrame(dataFrame, indexNumber)\n",
    "    print('For index', indexNumber, 'Predicted', prediction, 'was', realValue)\n",
    "    return fig, ax"
   ]
  },
  {
   "cell_type": "code",
   "execution_count": 6,
   "metadata": {},
   "outputs": [],
   "source": [
    "def makeNetwork(inputSize, settings, learningRate, kernalInitializer='he_uniform', lossFunction='MSE'):#https://keras.io/api/losses/regression_losses/\n",
    "    \"\"\"\n",
    "    jhgjhgj\n",
    "    \"\"\"\n",
    "    model = Sequential()\n",
    "    model.add(Dense(settings[0][1], input_dim=inputSize, use_bias=settings[0][3]))#, kernel_initializer=kernalInitializer))#, kernel_initializer=kernalInitializer))\n",
    "    model.add(Activation(settings[0][2]))\n",
    "    \n",
    "    for i in range(1, len(settings)):\n",
    "        setting = settings[i]#0 is kind of layer, rest are settings.\n",
    "        \n",
    "        if setting[0]=='Dense':# 1 is amount of nodes, 2 is kind of activation, 3 is bias\n",
    "            model.add(Dense(setting[1], use_bias=setting[3]))#, kernel_initializer=kernalInitializer))\n",
    "            model.add(Activation(setting[2]))\n",
    "    \n",
    "    opt = adam(lr=learningRate)\n",
    "    model.compile(loss=lossFunction, optimizer=opt)#mse or mape\n",
    "    \n",
    "    return model"
   ]
  },
  {
   "cell_type": "markdown",
   "metadata": {},
   "source": [
    "# Getting data"
   ]
  },
  {
   "cell_type": "code",
   "execution_count": 7,
   "metadata": {},
   "outputs": [
    {
     "name": "stdout",
     "output_type": "stream",
     "text": [
      "0\n"
     ]
    }
   ],
   "source": [
    "filename = 'databaseModLen_min_cut0.90_widths86_Width1.5-10_data50k_3-1sur_epoch30_maxDelta0.1_R020_M2M3M4M5Prepared'#'OLDcombinedDataR100M2M3M4Prepared'#'combinedDataPrepared'\n",
    "inputSize = 16\n",
    "orderOfMatrix = [-2, -3, -4, -5]# Make a list if you want to do the calculations yourself and make a other type of you want to import it\n",
    "\n",
    "\n",
    "data = pd.read_json(filename + '.json', orient='columns')\n",
    "data['particleCoordinates'] = data['particleCoordinates'].apply(np.array)\n",
    "#data['eigenvalues'] = data['eigenvalues'].apply(np.transpose)\n",
    "#data['eigenvalues'] = data['eigenvalues'].apply(list)\n",
    "\n",
    "offset = 0#min(data['potentialEnergy'])\n",
    "print(offset)"
   ]
  },
  {
   "cell_type": "code",
   "execution_count": 8,
   "metadata": {},
   "outputs": [],
   "source": [
    "#data.head()"
   ]
  },
  {
   "cell_type": "code",
   "execution_count": 9,
   "metadata": {},
   "outputs": [
    {
     "data": {
      "text/html": [
       "<div>\n",
       "<style scoped>\n",
       "    .dataframe tbody tr th:only-of-type {\n",
       "        vertical-align: middle;\n",
       "    }\n",
       "\n",
       "    .dataframe tbody tr th {\n",
       "        vertical-align: top;\n",
       "    }\n",
       "\n",
       "    .dataframe thead th {\n",
       "        text-align: right;\n",
       "    }\n",
       "</style>\n",
       "<table border=\"1\" class=\"dataframe\">\n",
       "  <thead>\n",
       "    <tr style=\"text-align: right;\">\n",
       "      <th></th>\n",
       "      <th>index</th>\n",
       "      <th>widthOfCell</th>\n",
       "      <th>numberOfSurroundingCells</th>\n",
       "      <th>potentialEnergy</th>\n",
       "    </tr>\n",
       "  </thead>\n",
       "  <tbody>\n",
       "    <tr>\n",
       "      <th>count</th>\n",
       "      <td>31521.000000</td>\n",
       "      <td>31521.000000</td>\n",
       "      <td>31521.0</td>\n",
       "      <td>31521.000000</td>\n",
       "    </tr>\n",
       "    <tr>\n",
       "      <th>mean</th>\n",
       "      <td>15760.000000</td>\n",
       "      <td>4.678008</td>\n",
       "      <td>3.0</td>\n",
       "      <td>4.203249</td>\n",
       "    </tr>\n",
       "    <tr>\n",
       "      <th>std</th>\n",
       "      <td>9099.473254</td>\n",
       "      <td>2.068157</td>\n",
       "      <td>0.0</td>\n",
       "      <td>65.557457</td>\n",
       "    </tr>\n",
       "    <tr>\n",
       "      <th>min</th>\n",
       "      <td>0.000000</td>\n",
       "      <td>1.500000</td>\n",
       "      <td>3.0</td>\n",
       "      <td>-45.142848</td>\n",
       "    </tr>\n",
       "    <tr>\n",
       "      <th>25%</th>\n",
       "      <td>7880.000000</td>\n",
       "      <td>3.000000</td>\n",
       "      <td>3.0</td>\n",
       "      <td>-4.392354</td>\n",
       "    </tr>\n",
       "    <tr>\n",
       "      <th>50%</th>\n",
       "      <td>15760.000000</td>\n",
       "      <td>4.500000</td>\n",
       "      <td>3.0</td>\n",
       "      <td>-1.825203</td>\n",
       "    </tr>\n",
       "    <tr>\n",
       "      <th>75%</th>\n",
       "      <td>23640.000000</td>\n",
       "      <td>6.100000</td>\n",
       "      <td>3.0</td>\n",
       "      <td>-0.800430</td>\n",
       "    </tr>\n",
       "    <tr>\n",
       "      <th>max</th>\n",
       "      <td>31520.000000</td>\n",
       "      <td>10.000000</td>\n",
       "      <td>3.0</td>\n",
       "      <td>2665.287506</td>\n",
       "    </tr>\n",
       "  </tbody>\n",
       "</table>\n",
       "</div>"
      ],
      "text/plain": [
       "              index   widthOfCell  numberOfSurroundingCells  potentialEnergy\n",
       "count  31521.000000  31521.000000                   31521.0     31521.000000\n",
       "mean   15760.000000      4.678008                       3.0         4.203249\n",
       "std     9099.473254      2.068157                       0.0        65.557457\n",
       "min        0.000000      1.500000                       3.0       -45.142848\n",
       "25%     7880.000000      3.000000                       3.0        -4.392354\n",
       "50%    15760.000000      4.500000                       3.0        -1.825203\n",
       "75%    23640.000000      6.100000                       3.0        -0.800430\n",
       "max    31520.000000     10.000000                       3.0      2665.287506"
      ]
     },
     "execution_count": 9,
     "metadata": {},
     "output_type": "execute_result"
    }
   ],
   "source": [
    "data.describe()"
   ]
  },
  {
   "cell_type": "code",
   "execution_count": 10,
   "metadata": {},
   "outputs": [
    {
     "name": "stdout",
     "output_type": "stream",
     "text": [
      "Offset is 0\n"
     ]
    },
    {
     "data": {
      "image/png": "[encoded data removed]",
      "text/plain": [
       "<Figure size 576x576 with 1 Axes>"
      ]
     },
     "metadata": {
      "needs_background": "light"
     },
     "output_type": "display_data"
    },
    {
     "data": {
      "image/png": "[encoded data removed]",
      "text/plain": [
       "<Figure size 576x576 with 1 Axes>"
      ]
     },
     "metadata": {
      "needs_background": "light"
     },
     "output_type": "display_data"
    },
    {
     "data": {
      "image/png": "[encoded data removed]",
      "text/plain": [
       "<Figure size 576x576 with 1 Axes>"
      ]
     },
     "metadata": {
      "needs_background": "light"
     },
     "output_type": "display_data"
    }
   ],
   "source": [
    "print('Offset is', offset)\n",
    "data['potentialEnergy'] = data['potentialEnergy']-offset\n",
    "qLow = data['potentialEnergy'].quantile(0.01)\n",
    "qHi  = data['potentialEnergy'].quantile(0.99)\n",
    "dataFiltered = data.copy()\n",
    "#dataFiltered = data[(data['potentialEnergy'] < qHi) & (data['potentialEnergy'] > qLow)]\n",
    "\n",
    "x = dataFiltered['potentialEnergy']\n",
    "fig, ax = plt.subplots(figsize=(8, 8))\n",
    "sortedX = np.sort(x) - 1.01 * min(x)\n",
    "ax.plot([100*i/len(x) for i in range(0, len(x))], sortedX)\n",
    "ax.set_xlim(0, 100)\n",
    "ax.set_yscale('log')\n",
    "ax.set_title('Plot of the energy per particle for each percentile.')\n",
    "ax.set_ylabel('Energy per particle')\n",
    "ax.set_xlabel('Percentile')\n",
    "plt.show()\n",
    "\n",
    "\n",
    "#\"\"\"\n",
    "tempData = dataFiltered.copy()\n",
    "tempOfsett = 1.01 * min(tempData['potentialEnergy'])\n",
    "tempData['potentialEnergy'] = tempData['potentialEnergy'] - tempOfsett\n",
    "medianData = tempData.groupby('widthOfCell').describe(percentiles=[0.05, 0.5, 0.95])\n",
    "fig, ax = plt.subplots(figsize=(8, 8))\n",
    "ax.plot(medianData.index, medianData['potentialEnergy']['5%'])\n",
    "ax.plot(medianData.index, medianData['potentialEnergy']['5%'])\n",
    "ax.plot(medianData.index, medianData['potentialEnergy']['50%'])\n",
    "ax.plot(medianData.index, medianData['potentialEnergy']['95%'])\n",
    "plt.legend(['5%', '50%', '95%'])\n",
    "ax.set_yscale('log')\n",
    "ax.set_title('Plot of the energy per particle for each width of cell with offset of ' + str(tempOfsett) + '.')\n",
    "ax.set_ylabel('Energy per particle')\n",
    "ax.set_xlabel('Width of cell')\n",
    "plt.show()\n",
    "#\"\"\"\n",
    "\n",
    "#\"\"\"\n",
    "tempData = dataFiltered.copy()\n",
    "tempOfsett = 0#1.01 * min(tempData['potentialEnergy'])\n",
    "tempData['potentialEnergy'] = tempData['potentialEnergy'] - tempOfsett\n",
    "medianData = tempData.groupby('widthOfCell').describe(percentiles=[0.05, 0.5, 0.95])\n",
    "fig, ax = plt.subplots(figsize=(8, 8))\n",
    "ax.plot(medianData.index, medianData['potentialEnergy']['min'])\n",
    "ax.plot(medianData.index, medianData['potentialEnergy']['5%'])\n",
    "ax.plot(medianData.index, medianData['potentialEnergy']['50%'])\n",
    "ax.plot(medianData.index, medianData['potentialEnergy']['95%'])\n",
    "plt.legend(['min', '5%', '50%', '95%'])\n",
    "plt.ylim(-2*10**1, 2*10**1)\n",
    "ax.set_title('Plot of the energy per particle for each width of cell with offset of ' + str(tempOfsett) + '.')\n",
    "ax.set_ylabel('Energy per particle')\n",
    "ax.set_xlabel('Width of cell')\n",
    "plt.show()\n",
    "#\"\"\"\n",
    "\n",
    "\n",
    "data = dataFiltered"
   ]
  },
  {
   "cell_type": "code",
   "execution_count": 11,
   "metadata": {},
   "outputs": [],
   "source": [
    "#data.head()"
   ]
  },
  {
   "cell_type": "code",
   "execution_count": 12,
   "metadata": {},
   "outputs": [
    {
     "data": {
      "text/html": [
       "<div>\n",
       "<style scoped>\n",
       "    .dataframe tbody tr th:only-of-type {\n",
       "        vertical-align: middle;\n",
       "    }\n",
       "\n",
       "    .dataframe tbody tr th {\n",
       "        vertical-align: top;\n",
       "    }\n",
       "\n",
       "    .dataframe thead th {\n",
       "        text-align: right;\n",
       "    }\n",
       "</style>\n",
       "<table border=\"1\" class=\"dataframe\">\n",
       "  <thead>\n",
       "    <tr style=\"text-align: right;\">\n",
       "      <th></th>\n",
       "      <th>index</th>\n",
       "      <th>widthOfCell</th>\n",
       "      <th>numberOfSurroundingCells</th>\n",
       "      <th>potentialEnergy</th>\n",
       "    </tr>\n",
       "  </thead>\n",
       "  <tbody>\n",
       "    <tr>\n",
       "      <th>count</th>\n",
       "      <td>31521.000000</td>\n",
       "      <td>31521.000000</td>\n",
       "      <td>31521.0</td>\n",
       "      <td>31521.000000</td>\n",
       "    </tr>\n",
       "    <tr>\n",
       "      <th>mean</th>\n",
       "      <td>15760.000000</td>\n",
       "      <td>4.678008</td>\n",
       "      <td>3.0</td>\n",
       "      <td>4.203249</td>\n",
       "    </tr>\n",
       "    <tr>\n",
       "      <th>std</th>\n",
       "      <td>9099.473254</td>\n",
       "      <td>2.068157</td>\n",
       "      <td>0.0</td>\n",
       "      <td>65.557457</td>\n",
       "    </tr>\n",
       "    <tr>\n",
       "      <th>min</th>\n",
       "      <td>0.000000</td>\n",
       "      <td>1.500000</td>\n",
       "      <td>3.0</td>\n",
       "      <td>-45.142848</td>\n",
       "    </tr>\n",
       "    <tr>\n",
       "      <th>25%</th>\n",
       "      <td>7880.000000</td>\n",
       "      <td>3.000000</td>\n",
       "      <td>3.0</td>\n",
       "      <td>-4.392354</td>\n",
       "    </tr>\n",
       "    <tr>\n",
       "      <th>50%</th>\n",
       "      <td>15760.000000</td>\n",
       "      <td>4.500000</td>\n",
       "      <td>3.0</td>\n",
       "      <td>-1.825203</td>\n",
       "    </tr>\n",
       "    <tr>\n",
       "      <th>75%</th>\n",
       "      <td>23640.000000</td>\n",
       "      <td>6.100000</td>\n",
       "      <td>3.0</td>\n",
       "      <td>-0.800430</td>\n",
       "    </tr>\n",
       "    <tr>\n",
       "      <th>max</th>\n",
       "      <td>31520.000000</td>\n",
       "      <td>10.000000</td>\n",
       "      <td>3.0</td>\n",
       "      <td>2665.287506</td>\n",
       "    </tr>\n",
       "  </tbody>\n",
       "</table>\n",
       "</div>"
      ],
      "text/plain": [
       "              index   widthOfCell  numberOfSurroundingCells  potentialEnergy\n",
       "count  31521.000000  31521.000000                   31521.0     31521.000000\n",
       "mean   15760.000000      4.678008                       3.0         4.203249\n",
       "std     9099.473254      2.068157                       0.0        65.557457\n",
       "min        0.000000      1.500000                       3.0       -45.142848\n",
       "25%     7880.000000      3.000000                       3.0        -4.392354\n",
       "50%    15760.000000      4.500000                       3.0        -1.825203\n",
       "75%    23640.000000      6.100000                       3.0        -0.800430\n",
       "max    31520.000000     10.000000                       3.0      2665.287506"
      ]
     },
     "execution_count": 12,
     "metadata": {},
     "output_type": "execute_result"
    }
   ],
   "source": [
    "data.describe()"
   ]
  },
  {
   "cell_type": "code",
   "execution_count": 13,
   "metadata": {},
   "outputs": [
    {
     "name": "stdout",
     "output_type": "stream",
     "text": [
      "[-1476.2669136531, -122.0506730345, 60.8113248877, 1763.1066698933, -55652.7169751766, -1028.8714382875, 245.9434175117, 56961.8532002125, -2105915.5988045624, -8249.2570738801, 868.0391434761, 2114663.4999050754, -79940098.23011614, -65310.8600139216, 3121.0899087646, 80006023.05381854] 5853.5453796982765 164361561.249397 \n",
      " \n",
      "\n",
      "[-76056.2187377372, -38.5273456259, 107.4650819585, 76127.96430017, -20975004.00280088, -197.7619988891, 338.5696381685, 20975146.08604685, -5784547644.9678955, -975.0987395815, 1286.1176568189, 5784547956.789896, -1595279385351.2158, -4731.8984712086, 5446.0954940495, 1595279386065.9438] 2475.340087890625 3202169982474.7236 \n",
      " \n",
      "\n",
      "[-2325.6237041018, -62.0734512856, 30.1174707795, 2405.0889604097, -111910.7065129163, -348.2900644983, 128.2044445675, 112197.2223586056, -5390464.405192086, -1867.7497930788, 659.2211871387, 5391770.546129849, -259714289.6073866, -9954.1589195712, 3738.6152266102, 259720652.47385168] 358.87460550665855 530462804.1046538 \n",
      " \n",
      "\n",
      "[-9116.0252592105, -80.9809838723, 238.5560579235, 9341.4887804155, -870342.2579333299, -622.5333142799, 1112.6349981583, 870897.6202072415, -83097081.2039691, -4640.2048533898, 6214.8945698492, 83098762.41294824, -7933816692.908334, -34328.6448720941, 39623.1397901888, 7933822190.450234] 15476.438068389893 16035681285.957106 \n",
      " \n",
      "\n",
      "[-2488.0063372825, -140.1484525303, 275.8092886804, 2970.6797686815, -123923.7178041753, -1360.4122010055, 2025.8239906187, 125202.3036532888, -6176643.5412378935, -12904.148417758, 15389.0800428983, 6181291.538374265, -307908504.4804768, -122858.6147312927, 132262.9270656258, 307927263.6065215] 37858.6990467906 628735504.8383644 \n",
      " \n",
      "\n",
      "[-1032.3407031889, -851.2017513447, 306.5396812539, 2737.5678941292, -31224.9577204289, -26079.615587765, 17913.0709958993, 43774.6386719701, -945467.2954563649, -803523.2610827934, 687182.4463564559, 1081783.4970898265, -28862941.37106211, -24598326.432027705, 23127766.778264884, 30432957.56898839] 124975.63255110756 110663868.5833345 \n",
      " \n",
      "\n",
      "[-921.1864897452, -527.3458069026, 176.0074144902, 1755.4729720968, -25227.4882835489, -12788.9369118208, 8145.3568983225, 31283.0806605766, -672906.7871824162, -315322.805267328, 253887.5585731417, 739102.5367698113, -17712951.43122794, -7909878.964612408, 7098552.859383664, 18541450.074948594] 23828.001838587224 53324877.89340281 \n",
      " \n",
      "\n",
      "[-3232.1180119293, -46.8395222356, 52.009978869, 3317.3108504773, -183743.0575881188, -223.8724090903, 173.9767856431, 183951.802774839, -10445906.270454863, -1023.3542451126, 671.1446830755, 10446557.587651683, -593857840.8115957, -4660.8850012114, 2963.0367022304, 593860120.5369678] 1130.1975663900375 1208994484.615223 \n",
      " \n",
      "\n",
      "[-783.6883464943, -203.8306629249, -9.6061106684, 1656.7574391656, -20961.3990078391, -2686.8952759107, 137.6941726631, 25623.673598417, -558029.1653027167, -34823.6096461331, 1591.5222151233, 599187.9301440755, -14855075.059649505, -439078.6901976165, 18259.3227943161, 15307940.307287753] 42745.263451704755 31866049.151851323 \n",
      " \n",
      "\n",
      "[-1587.563307309, -73.8111339746, -69.307771507, 1859.197318123, -62534.2412958047, -568.7661582667, -516.2232598101, 63870.5255782735, -2472000.6288048914, -3884.4290376286, -3780.0210231417, 2480201.107527712, -97896722.624241, -28040.4401043262, -24149.4283124622, 97950101.63540924] 2104.9813832342625 200989959.95028347 \n",
      " \n",
      "\n",
      "[-1446.4784117131, -100.8913396283, 85.941611307, 1768.9435178122, -54902.0254239468, -733.4647313721, 411.7017650184, 56010.3891656343, -2085309.9954152727, -4989.7574696525, 1629.2917080532, 2090942.9745359786, -79228766.87618388, -33275.4540573402, 6455.1648243064, 79262540.81106634] 10320.275161653757 162829370.16122726 \n",
      " \n",
      "\n",
      "[-1086.1944965098, -60.0956163582, 46.9177155355, 1206.9105927304, -35554.2320640383, -366.2323639396, 257.1679081795, 35862.5305001694, -1166738.5527333976, -2141.1791807102, 1457.2922052513, 1167821.635186071, -38326145.8405236, -12476.2812643997, 8923.2730365131, 38330527.7126843] 1534.8315857946873 79090672.04807171 \n",
      " \n",
      "\n",
      "[-1541.9422337147, -964.2007028732, -766.8152006893, 13341.5494756325, -51742.7526517472, -26801.7627758575, -16056.5214690699, 166579.253094494, -1664942.0260854661, -751549.8993605952, -259238.0066360959, 3391414.2241684697, -52468112.11050781, -21777717.045797907, -1426481.18383454, 83876560.39309302] 9001981.152575254 165893809.68708795 \n",
      " \n",
      "\n",
      "[-6606.2119636322, -83.4099985405, 168.128222072, 6784.1533519109, -536870.9856468289, -682.3749071952, 928.4473161458, 537266.1165352179, -43633758.8933302, -5527.8911622516, 6232.7643774677, 43634809.03085457, -3546321151.5457096, -44961.7547623845, 47064.9184052945, 3546324118.818826] 7729.310408592224 7181107015.44537 \n",
      " \n",
      "\n",
      "[-152515.805482094, -144.6966767043, 492.9298852346, 152872.1107440711, -59562400.40243368, -1487.0122472646, 2636.3317861171, 59563551.45806778, -23261064595.07315, -14659.8222809194, 19072.4661731906, 23261069008.412155, -9084206210784.146, -141425.2104637393, 159700.960850273, 9084206229060.232] 48382.732421875 18215054344407.07 \n",
      " \n",
      "\n",
      "[-1910.0995657294, -123.7808269324, 3.0150547485, 2199.9842306469, -82663.9410638819, -1339.2919212727, 449.3945440958, 83914.2229804242, -3588781.749950403, -14743.7460453552, 8489.359318177, 3595882.4791975664, -156045545.47935528, -164433.7552411025, 122114.9862526382, 156089943.39386687] 3454.991475224495 319802538.6794151 \n",
      " \n",
      "\n",
      "[-21130.9835482388, -52.8718087382, 175.687711952, 21270.8272568351, -3071697.193831345, -310.1451854316, 624.8127721961, 3072023.72954192, -446516822.12394387, -1734.7836931239, 2605.3493850347, 446517706.5689914, -64907858402.587006, -9462.7646165225, 11988.9068382486, 64907860946.881546] 7729.310409545898 130714966956.21768 \n",
      " \n",
      "\n",
      "[-273.5308214284, -142.9811678033, -63.9211061146, 842.5904615167, -4325.6004848793, -1604.3992043445, -375.5756866339, 7277.902322346, -67924.6502137581, -18037.7948189957, -1943.2757684347, 90876.4666212707, -1060769.2365175209, -203749.6982214174, -7542.8423192473, 1281709.8923411183] 13953.345415673684 2747460.3580768295 \n",
      " \n",
      "\n",
      "[-1955.4177653826, -782.7325390469, 134.3854116885, 6977.6648288597, -83917.1671627628, -20712.5927282691, 15519.4759685757, 113475.3015889473, -3625943.3668637304, -549966.9495258908, 521795.271470863, 3831918.7539155623, -157423298.85144344, -14690383.317835448, 14510252.965110313, 159069002.4943455] 1672115.9167762995 354466036.70850426 \n",
      " \n",
      "\n",
      "[-3399829.719718842, -373.1511148511, 1000.1243686833, 3400457.3215974164, -6268819259.022574, -6800.6939072289, 9224.1118787789, 6268821682.458413, -11558842108652.15, -124439.5944602231, 135786.6316806204, 11558842119999.193, -2.131291801e+16, -2293467.508582676, 2351622.1312871203, 2.131291801e+16] 86952.0 4.264896625359259e+16 \n",
      " \n",
      "\n",
      "[-498.5161369725, -316.1175336329, 14.9786466776, 893.9939513474, -11030.8306132345, -5583.2869534059, 37.9400867485, 16744.2016532434, -243129.0289587433, -98447.0419494691, 78.1409380892, 341819.2609031298, -5340175.166290485, -1730938.5877896748, 157.5723153949, 7071591.50235202] 1219.014621032402 14861456.167072268 \n",
      " \n",
      "\n",
      "[-7039.4867374531, -5932.5769125308, 5844.9346600771, 7489.2863560771, -590598.9868770544, -456928.0290703636, 457094.3189542192, 591405.0239396874, -49551369.61604162, -35193481.01723811, 35194426.330568984, 49553395.04853086, -4157377870.5161047, -2710676363.975975, 2710680112.959772, 4157383769.647589] 13953.345413684845 13907733121.755327 \n",
      " \n",
      "\n",
      "[-1059.6304751653, -270.3476921152, -13.6489940824, 2272.0234411454, -31619.2830444399, -4857.8487281067, 1766.741079188, 37996.5623368265, -936687.1758654983, -88360.2779058476, 54386.5712041034, 984525.087200968, -27869810.563748013, -1568018.9362789902, 1205213.2106991033, 28296173.26300569] 81635.74623476341 61083031.171699286 \n",
      " \n",
      "\n",
      "[-1678.5307030785, -1397.4224971132, 896.5744940815, 4274.3243144849, -68302.2715763238, -51778.2491902464, 47927.8964337208, 81551.796958377, -2786145.118510374, -1924436.9769295664, 1915283.3226879728, 2847970.416108374, -113764216.03882958, -71618576.92649771, 71636695.01616707, 114073355.49329162] 391423.3057217002 380824486.37518966 \n",
      " \n",
      "\n",
      "[-4538.6416983497, -232.6594899187, 677.0827129898, 6189.1640836534, -305449.8522263311, -2945.2068041318, 6866.0430193369, 310928.1886366536, -20567065.142179906, -35246.3751410632, 59829.9696065433, 20595153.19107083, -1385008212.3397105, -408568.8688042306, 567213.1647941855, 1385176825.5878515] 391423.30572128296 2813055941.47783 \n",
      " \n",
      "\n",
      "[-1850.4977320471, -70.1932805265, 55.135135144, 2012.7963913753, -79586.2102094101, -414.0237842749, 176.6209684159, 80123.9519532511, -3423227.023657499, -2322.7158414756, 523.2730899868, 3425698.366082392, -147245568.7518761, -12919.7229789777, 1580.0452209152, 147258476.2342323] 2687.283713489771 301534605.5624341 \n",
      " \n",
      "\n",
      "[-16312.0233195025, -72.3896569295, 234.0627527466, 16512.5075898558, -2083331.295311402, -519.3745137505, 990.3184175406, 2083832.6783541015, -266079223.9721726, -3582.3117093246, 5048.1482854608, 266080728.88141683, -33983155312.841995, -24358.1766135676, 29153.5902001852, 33983160165.543686] 13953.34540939331 68502739378.116 \n",
      " \n",
      "\n",
      "[-4505.2278377278, -296.596011249, 424.8726801124, 4889.8436260737, -302298.17945673, -4996.5529682991, 5537.9891096792, 303283.2848709874, -20287677.79194105, -84624.2276345462, 86607.0541308281, 20290948.833790887, -1361567093.8130534, -1438157.0527040807, 1445701.6445900695, 1361578923.0781047] 26667.159296274185 2767405966.0425105 \n",
      " \n",
      "\n",
      "[-1410.6462995733, -1222.9569620075, -626.3287145863, 13328.5233145223, -46848.2932891656, -38022.6320945629, -9457.2891476283, 166306.4307291762, -1528109.3519521113, -1159107.530103684, 5169.6891610649, 3397731.4849810367, -49870064.45142358, -35127135.258491516, 8272796.532595282, 84928653.23027267] 9001981.152575329 184565990.62953216 \n",
      " \n",
      "\n",
      "[-1522.7580977231, -681.4676844232, 459.4991613967, 2069.2200586248, -58514.928847758, -17768.8006975064, 16315.0288484532, 60812.1384749855, -2256425.8267653855, -463538.3233006896, 453734.3617908727, 2268711.8122674916, -87238527.13948295, -12094489.271742458, 12027007.64773079, 87313753.83463576] 11395.02634948492 204274332.05958727 \n",
      " \n",
      "\n",
      "[-2443.3651403169, -106.0553191921, 146.4916695645, 2915.8212471538, -120572.2334598666, -956.5282872598, 1184.7668588741, 121870.5364438897, -5954517.467297874, -8478.9984381694, 9016.7600576472, 5959233.574024514, -294126536.9887754, -75276.2149389719, 75656.9291919808, 294145530.1314603] 26667.159296929836 600604442.862611 \n",
      " \n",
      "\n",
      "[-1373.2838319975, -109.6742537661, 32.990389263, 1552.8839840827, -50009.5838982459, -885.6720162346, 142.2059076908, 50941.2217058296, -1828078.0661111253, -6719.0709446895, 656.8417498398, 1834511.5074568521, -67017196.33265082, -49943.8874995734, 3394.6958145884, 67064503.76679164] 1420.5425933375955 137910051.68500626 \n",
      " \n",
      "\n",
      "[-26870.1856739463, -1043.9612496856, 1673.2739581, 27599.6657802626, -4404523.644616863, -33435.9135124968, 36104.9535447019, 4407227.699154475, -721990519.1018512, -1074153.8354811638, 1087075.6377305659, 722003463.9336603, -118348932310.44917, -34552629.70252746, 34620908.3260717, 118349000608.54227] 169175.23806762695 238222200148.82623 \n",
      " \n",
      "\n",
      "[-2133.6968220845, -151.9581411007, 174.9977246925, 2815.1957090002, -98147.6709570868, -1653.051018644, 1959.951046257, 100141.1461024447, -4522898.15620964, -17626.0435172626, 18571.074956008, 4530779.107667064, -208539417.86524147, -187062.4264348685, 188509.6629142751, 208574522.4709373] 48382.73871490359 426786564.47539926 \n",
      " \n",
      "\n",
      "[-762.6781152308, -207.0446271583, -29.6842086235, 1659.0392700907, -20868.4967628864, -2605.7307713522, 55.4016375442, 25531.8993840247, -571667.8718528771, -31381.2898573634, 1157.4924589129, 609818.3466616767, -15675971.865634123, -365979.5525615687, 12352.4588064389, 16061644.839624196] 42745.26345170103 33381693.69223407 \n",
      " \n",
      "\n",
      "[-8768.9545341115, -2188.0838882553, 2450.7912228609, 9312.8311512405, -821090.3068783351, -102102.7892149511, 103297.3293323075, 822635.4397004675, -76886810.11467965, -4770302.72897806, 4775340.258891055, 76892783.85699484, -7199703123.864619, -222925367.62543148, 222947757.7503121, 7199728659.19719] 62482.98657131195 15010501991.92302 \n",
      " \n",
      "\n",
      "[-2317.1316652141, -74.4783866573, 45.9778743689, 2499.7750346454, -111194.0279967797, -501.2827333857, 188.1888399692, 111826.1251825354, -5342828.943094027, -3191.6052937085, 833.8999710902, 5345911.864915397, -256827049.77264568, -19796.8877588769, 4351.5955675829, 256844216.36216816] 2919.659979403019 524616827.91912806 \n",
      " \n",
      "\n",
      "[-110776.6843031784, -85.6442701322, 215.4246712431, 110909.5635138776, -36869945.92125145, -709.0996045024, 1029.2799385762, 36870266.94421471, -12271472169.93056, -5826.7433453216, 6704.0544537642, 12271473047.63019, -4084330085886.4624, -48130.9434129967, 50666.0598130722, 4084330088421.7827] 7729.31005859375 8193277194792.168 \n",
      " \n",
      "\n",
      "[-1612.0685172655, -581.6804231217, 222.9836544882, 4778.9525426222, -63776.678190064, -13043.3841073018, 12192.0324261193, 78355.7878166946, -2533945.866359073, -292173.3528329753, 298253.4495867237, 2613239.772924029, -100910645.60727972, -6584059.61680557, 6669672.654269052, 101418079.99673097] 694957.3754356056 221494633.88446578 \n",
      " \n",
      "\n",
      "[-3269.4783251775, -229.0475912563, 519.6161342677, 4582.9381114393, -186711.8468046517, -2984.3468613717, 5629.609767225, 190724.0311170048, -10669045.17263655, -37690.0681191344, 53115.9444368067, 10687581.9254575, -609732370.6472427, -471479.2451216495, 562331.1724087612, 609832332.638949] 233038.02367973328 1242440597.7290845 \n",
      " \n",
      "\n",
      "[-2887.1313943446, -304.0043528724, 259.8945942423, 3108.4795601923, -154738.9022906471, -5267.3078811372, 5006.6121014587, 155382.9259976595, -8303250.946275791, -91481.1442417406, 89963.8921245111, 8305683.33188728, -445683208.9764209, -1590230.2727505886, 1582280.4005463277, 445693446.4458365] 3763.297040104866 911666500.6682562 \n",
      " \n",
      "\n",
      "[-12371.3119717501, -70.7548415051, 201.4164946799, 12532.2504209794, -1375988.2910264565, -499.0547391399, 852.3560142472, 1376369.200950784, -153045049.09339634, -3478.4968599924, 4498.4092722123, 153046112.06658626, -17022529394.666561, -24331.4976940371, 27419.6411391148, 17022532557.694069] 9359.86785697937 34353991726.20204 \n",
      " \n",
      "\n",
      "[-1492.3315632126, -734.0331397402, 429.8122822486, 3271.2578674195, -57118.500095156, -19593.0531368067, 18380.8262064947, 64303.1174253381, -2192292.7755370145, -525182.2285437065, 520895.5827843724, 2226164.265568583, -84266139.07170859, -14109819.892520852, 14084747.817239981, 84452273.9800269] 198094.77315627038 202542838.54564643 \n",
      " \n",
      "\n",
      "[-995.6046315004, -681.7055967648, -37.7679076565, 5189.8462346172, -28857.1840377966, -17436.9398845427, 7007.8995686102, 57370.6321671801, -841248.8425919436, -449103.1219823188, 327541.7255337164, 1084219.2672184766, -24833682.33638144, -11582317.868331555, 10472919.247373786, 26858400.26333293] 1058287.510083802 76567010.25277483 \n",
      " \n",
      "\n",
      "[-1238.2328317597, -116.0861423016, 40.590000665, 1638.2224112716, -43510.7495070663, -1008.8260839821, 255.4642822364, 45107.5490869863, -1529962.5862533574, -8356.4329896617, 1103.4172703003, 1539697.6259650108, -53806007.23205969, -67516.6589932531, 4832.6741438646, 53876436.28805034] 11395.02634960413 110926828.63607174 \n",
      " \n",
      "\n",
      "[-553.5287935281, -96.6109433865, 7.9457828318, 693.5265318606, -12123.0639224369, -909.7763138877, 16.3172537334, 13090.4967951633, -262025.5060521013, -8413.12660174, 26.8251779853, 270523.9116774586, -5651282.119738749, -76476.4648615362, 42.9604514267, 5727890.210564888] 411.99700798187405 12024172.391462713 \n",
      " \n",
      "\n",
      "[-847.768165956, -292.5330570232, -217.4365738831, 2716.5306115931, -23223.6201954986, -4507.4624848945, -2746.5855010119, 35850.76275122, -611139.4136248227, -68679.2159605188, -33142.8257260429, 738828.0893697897, -15685899.182841163, -1048247.4847145298, -385255.1241426104, 17255978.508417323] 169175.23816196993 35897572.54413788 \n",
      " \n",
      "\n",
      "[-205.754694327, -62.605265648, -25.5937805999, 455.3818460149, -2861.4216170091, -440.862027343, -51.6102351861, 3692.8762997939, -39689.4671169965, -3028.086588084, 169.9929579016, 43330.7700033627, -550882.9712352909, -20503.4644396094, 3392.1580306858, 569885.3813927652] 3174.7235304302303 1238678.3975306181 \n",
      " \n",
      "\n",
      "[-1638.3597321399, -81.8809135228, 43.0680570263, 1838.6006940764, -65615.3414967693, -570.2824515145, 134.2628698462, 66390.3434986932, -2636480.198034168, -3830.4663666665, 355.3543545886, 2640738.519302429, -106115779.13664217, -25447.7386894226, 926.94534793, 106142191.03373234] 3174.723530560732 217702061.5321833 \n",
      " \n",
      "\n",
      "[-63879.6503062, -49.1245781003, 149.2788345931, 63984.0315108183, -16145209.419708364, -284.5929839155, 515.077726883, 16145441.706812829, -4080608296.9535213, -1579.2301176479, 2159.4114818018, 4080608878.335344, -1031350148139.0266, -8573.8411895574, 10104.2954418362, 1031350149670.3473] 4890.6453857421875 2070893956914.3232 \n",
      " \n",
      "\n"
     ]
    }
   ],
   "source": [
    "trainingData = data.sample(frac=0.8)\n",
    "validationData = data.drop(trainingData.index)\n",
    "\n",
    "def product(l):\n",
    "    p = 1\n",
    "    for i in l:\n",
    "        p = p*i\n",
    "    return p\n",
    "\n",
    "inputData = []\n",
    "targetData = []\n",
    "for i in trainingData.index:\n",
    "    inputData.append(trainingData['eigenvalues'][i])#TODO remove sorted once fixed in data\n",
    "    #targetData.append(trainingData['potentialEnergy'][i])\n",
    "    targetData.append(sum(trainingData['eigenvalues'][i]))\n",
    "\n",
    "trainingInput = [[inputData], [targetData]]\n",
    "\n",
    "inputData = []\n",
    "targetData = []\n",
    "for i in validationData.index:\n",
    "    inputData.append(validationData['eigenvalues'][i])#TODO remove sorted once fixed in data\n",
    "    #targetData.append(validationData['potentialEnergy'][i])\n",
    "    targetData.append(sum(validationData['eigenvalues'][i]))\n",
    "\n",
    "validationInput = [[inputData], [targetData]]\n",
    "\n",
    "[print(trainingInput[0][0][i], trainingInput[1][0][i], sum([abs(trainingInput[0][0][i][j]) for j in range(16)]), '\\n \\n') for i in range(0, 50)]\n",
    "\n",
    "validationPlots = [random.choice(validationData.index) for i in range(0, 11)]"
   ]
  },
  {
   "cell_type": "markdown",
   "metadata": {},
   "source": [
    "## Preparing testing"
   ]
  },
  {
   "cell_type": "code",
   "execution_count": 14,
   "metadata": {},
   "outputs": [
    {
     "name": "stderr",
     "output_type": "stream",
     "text": [
      "No handles with labels found to put in legend.\n"
     ]
    },
    {
     "data": {
      "image/png": "[encoded data removed]",
      "text/plain": [
       "<Figure size 576x576 with 1 Axes>"
      ]
     },
     "metadata": {
      "needs_background": "light"
     },
     "output_type": "display_data"
    },
    {
     "data": {
      "image/png": "[encoded data removed]",
      "text/plain": [
       "<Figure size 576x576 with 1 Axes>"
      ]
     },
     "metadata": {
      "needs_background": "light"
     },
     "output_type": "display_data"
    }
   ],
   "source": [
    "#\"\"\"\n",
    "widthOfCell = 5.0\n",
    "numberOfSurroundingCells = 3\n",
    "R0 = 20\n",
    "x = np.linspace(0.1, 1.1, 60)\n",
    "\n",
    "testData = {'particleCoordinates': [],'widthOfCell':[] , 'numberOfSurroundingCells': [], 'potentialEnergy':[]}# Initialy use a dictionary because it's easier to append to than a dataframe.\n",
    "for i in x:\n",
    "    particles = [np.array([0.1, 0.1]), np.array([0.55, 0.9]), np.array([0.6, 0.665]), np.array([0.5, i])]\n",
    "    #particles = [np.array([0.3, 0.5]), np.array([0.3, 0.4]), np.array([0.6, 0.4]), np.array([0.5, i])]\n",
    "    particles = [widthOfCell * coordinate for coordinate in particles]\n",
    "    otherSpace = generateSpace(particles, numberOfSurroundingCells, widthOfCell)# Generate the other space.\n",
    "    testData['particleCoordinates'].append(particles)\n",
    "    testData['widthOfCell'].append(widthOfCell)\n",
    "    testData['numberOfSurroundingCells'].append(numberOfSurroundingCells)\n",
    "    testData['potentialEnergy'].append(potentialEnergy(otherSpace, particles, potentialEnergyPerTrio) - offset)# Calculate the potential energy and save it to the data dictonairy.\n",
    "\n",
    "x = widthOfCell * x\n",
    "testData = prepareDatabseForMachineLearning(pd.DataFrame(testData), orderOfMatrix, R0, giveUpdates = False)\n",
    "\n",
    "#for i in range(len(x)):\n",
    "#    print(testData['eigenvalues'][i])\n",
    "\n",
    "fig, ax1 = plt.subplots(figsize=(8, 8))\n",
    "ax1.plot(list(x), [testData['eigenvalues'][i] for i in range(len(testData['eigenvalues']))])\n",
    "ax1.legend()\n",
    "ax1.set_ylim(-1000, 1000)\n",
    "ax1.set_xlabel('Position of atom')\n",
    "ax1.set_ylabel('Eigenvalues')\n",
    "ax1.set_title('Eigenvalues for different positions.')\n",
    "plt.show()\n",
    "\n",
    "testData.head()\n",
    "testData.describe()\n",
    "\n",
    "y = [[],[]]\n",
    "for i in range(len(x)):\n",
    "    y[1].append(testData['potentialEnergy'][i])\n",
    "\n",
    "\n",
    "fig, ax1 = plt.subplots(figsize=(8, 8))\n",
    "ax1.plot(list(x), y[1], label='Real potential energy')\n",
    "ax1.legend()\n",
    "ax1.set_xlabel('Position of atom')\n",
    "ax1.set_ylabel('Potential energy')\n",
    "ax1.set_title('Predicted potential energy and real potential energy for different positions.')\n",
    "#ax1.set_ylim(-0.75 * offset , 1.5 * max(y[1]))\n",
    "plt.show()\n",
    "\n",
    "\n",
    "#\"\"\""
   ]
  },
  {
   "cell_type": "markdown",
   "metadata": {},
   "source": [
    "# Machine learning"
   ]
  },
  {
   "cell_type": "code",
   "execution_count": 15,
   "metadata": {},
   "outputs": [],
   "source": [
    "models = []"
   ]
  },
  {
   "cell_type": "markdown",
   "metadata": {},
   "source": [
    "## Model 0: Linear only"
   ]
  },
  {
   "cell_type": "code",
   "execution_count": 16,
   "metadata": {},
   "outputs": [],
   "source": [
    "def makeNetwork(inputSize, settings, learningRate, kernalInitializer='he_uniform', lossFunction='MSE'):#https://keras.io/api/losses/regression_losses/\n",
    "    \"\"\"\n",
    "    jhgjhgj\n",
    "    \"\"\"\n",
    "    model = Sequential()\n",
    "    model.add(Dense(settings[0][1], input_dim=inputSize, use_bias=settings[0][3]))#, kernel_initializer=kernalInitializer))#, kernel_initializer=kernalInitializer))\n",
    "    model.add(Activation(settings[0][2]))\n",
    "    \n",
    "    for i in range(1, len(settings)):\n",
    "        setting = settings[i]#0 is kind of layer, rest are settings.\n",
    "        \n",
    "        if setting[0]=='Dense':# 1 is amount of nodes, 2 is kind of activation, 3 is bias\n",
    "            model.add(Dense(setting[1], use_bias=setting[3]))#, kernel_initializer=kernalInitializer))\n",
    "            model.add(Activation(setting[2]))\n",
    "    \n",
    "    opt = adam(lr=learningRate)\n",
    "    model.compile(loss=lossFunction, optimizer=opt)#mse or mape\n",
    "    \n",
    "    return model"
   ]
  },
  {
   "cell_type": "code",
   "execution_count": 17,
   "metadata": {},
   "outputs": [
    {
     "name": "stdout",
     "output_type": "stream",
     "text": [
      "Model: \"sequential_1\"\n",
      "_________________________________________________________________\n",
      "Layer (type)                 Output Shape              Param #   \n",
      "=================================================================\n",
      "dense_1 (Dense)              (None, 1)                 16        \n",
      "_________________________________________________________________\n",
      "activation_1 (Activation)    (None, 1)                 0         \n",
      "=================================================================\n",
      "Total params: 16\n",
      "Trainable params: 16\n",
      "Non-trainable params: 0\n",
      "_________________________________________________________________\n",
      "(1, 16, 1)\n",
      "(1, 16, 1)\n",
      "Layer 0:  [array([[1.],\n",
      "       [1.],\n",
      "       [1.],\n",
      "       [1.],\n",
      "       [1.],\n",
      "       [1.],\n",
      "       [1.],\n",
      "       [1.],\n",
      "       [1.],\n",
      "       [1.],\n",
      "       [1.],\n",
      "       [1.],\n",
      "       [1.],\n",
      "       [1.],\n",
      "       [1.],\n",
      "       [1.]], dtype=float32)]\n",
      "Layer 1:  []\n"
     ]
    }
   ],
   "source": [
    "settings = [['Dense', 1, 'linear', False]]\n",
    "learningRate = 1*10**-3\n",
    "\n",
    "model = makeNetwork(inputSize, settings, learningRate, 'he_uniform')#eras.initializers.glorot_uniform(seed=None)\n",
    "\n",
    "model.summary()\n",
    "\n",
    "\n",
    "newWeights = np.array([[[1] for j in range(16)]])\n",
    "print(np.shape(newWeights))\n",
    "print(np.shape(model.layers[0].get_weights()))\n",
    "model.layers[0].set_weights(newWeights)\n",
    "\n",
    "for i in range(len(model.layers)):\n",
    "    print('Layer ' + str(i) + ': ', model.layers[i].get_weights())"
   ]
  },
  {
   "cell_type": "code",
   "execution_count": 18,
   "metadata": {},
   "outputs": [
    {
     "name": "stdout",
     "output_type": "stream",
     "text": [
      "Epoch 1/100\n"
     ]
    },
    {
     "ename": "InternalError",
     "evalue": " Blas GEMV launch failed:  m=16, n=32\n\t [[node dense_1/MatMul (defined at C:\\Users\\heisz\\anaconda3\\envs\\BEPGPU\\lib\\site-packages\\keras\\backend\\tensorflow_backend.py:3009) ]] [Op:__inference_keras_scratch_graph_358]\n\nFunction call stack:\nkeras_scratch_graph\n",
     "output_type": "error",
     "traceback": [
      "\u001b[1;31m---------------------------------------------------------------------------\u001b[0m",
      "\u001b[1;31mInternalError\u001b[0m                             Traceback (most recent call last)",
      "\u001b[1;32m<ipython-input-18-f272d96e4c62>\u001b[0m in \u001b[0;36m<module>\u001b[1;34m\u001b[0m\n\u001b[0;32m      1\u001b[0m \u001b[1;31m#trainNetwork(model, trainingInput, 0.3, numberOfEpochs=30, batchSize=32, verboseSetting=1)\u001b[0m\u001b[1;33m\u001b[0m\u001b[1;33m\u001b[0m\u001b[1;33m\u001b[0m\u001b[0m\n\u001b[1;32m----> 2\u001b[1;33m \u001b[0mmodel\u001b[0m\u001b[1;33m.\u001b[0m\u001b[0mfit\u001b[0m\u001b[1;33m(\u001b[0m\u001b[0mtrainingInput\u001b[0m\u001b[1;33m[\u001b[0m\u001b[1;36m0\u001b[0m\u001b[1;33m]\u001b[0m\u001b[1;33m,\u001b[0m \u001b[0mtrainingInput\u001b[0m\u001b[1;33m[\u001b[0m\u001b[1;36m1\u001b[0m\u001b[1;33m]\u001b[0m\u001b[1;33m,\u001b[0m \u001b[0mepochs\u001b[0m\u001b[1;33m=\u001b[0m\u001b[1;36m100\u001b[0m\u001b[1;33m,\u001b[0m \u001b[0mverbose\u001b[0m\u001b[1;33m=\u001b[0m\u001b[1;36m1\u001b[0m\u001b[1;33m)\u001b[0m\u001b[1;33m\u001b[0m\u001b[1;33m\u001b[0m\u001b[0m\n\u001b[0m\u001b[0;32m      3\u001b[0m \u001b[0mmodels\u001b[0m\u001b[1;33m.\u001b[0m\u001b[0mappend\u001b[0m\u001b[1;33m(\u001b[0m\u001b[1;33m[\u001b[0m\u001b[0mmodel\u001b[0m\u001b[1;33m,\u001b[0m \u001b[1;34m'model0'\u001b[0m\u001b[1;33m]\u001b[0m\u001b[1;33m)\u001b[0m\u001b[1;33m\u001b[0m\u001b[1;33m\u001b[0m\u001b[0m\n\u001b[0;32m      4\u001b[0m \u001b[0mprint\u001b[0m\u001b[1;33m(\u001b[0m\u001b[1;33m)\u001b[0m\u001b[1;33m\u001b[0m\u001b[1;33m\u001b[0m\u001b[0m\n\u001b[0;32m      5\u001b[0m \u001b[1;33m\u001b[0m\u001b[0m\n",
      "\u001b[1;32m~\\anaconda3\\envs\\BEPGPU\\lib\\site-packages\\keras\\engine\\training.py\u001b[0m in \u001b[0;36mfit\u001b[1;34m(self, x, y, batch_size, epochs, verbose, callbacks, validation_split, validation_data, shuffle, class_weight, sample_weight, initial_epoch, steps_per_epoch, validation_steps, validation_freq, max_queue_size, workers, use_multiprocessing, **kwargs)\u001b[0m\n\u001b[0;32m   1237\u001b[0m                                         \u001b[0msteps_per_epoch\u001b[0m\u001b[1;33m=\u001b[0m\u001b[0msteps_per_epoch\u001b[0m\u001b[1;33m,\u001b[0m\u001b[1;33m\u001b[0m\u001b[1;33m\u001b[0m\u001b[0m\n\u001b[0;32m   1238\u001b[0m                                         \u001b[0mvalidation_steps\u001b[0m\u001b[1;33m=\u001b[0m\u001b[0mvalidation_steps\u001b[0m\u001b[1;33m,\u001b[0m\u001b[1;33m\u001b[0m\u001b[1;33m\u001b[0m\u001b[0m\n\u001b[1;32m-> 1239\u001b[1;33m                                         validation_freq=validation_freq)\n\u001b[0m\u001b[0;32m   1240\u001b[0m \u001b[1;33m\u001b[0m\u001b[0m\n\u001b[0;32m   1241\u001b[0m     def evaluate(self,\n",
      "\u001b[1;32m~\\anaconda3\\envs\\BEPGPU\\lib\\site-packages\\keras\\engine\\training_arrays.py\u001b[0m in \u001b[0;36mfit_loop\u001b[1;34m(model, fit_function, fit_inputs, out_labels, batch_size, epochs, verbose, callbacks, val_function, val_inputs, shuffle, initial_epoch, steps_per_epoch, validation_steps, validation_freq)\u001b[0m\n\u001b[0;32m    194\u001b[0m                     \u001b[0mins_batch\u001b[0m\u001b[1;33m[\u001b[0m\u001b[0mi\u001b[0m\u001b[1;33m]\u001b[0m \u001b[1;33m=\u001b[0m \u001b[0mins_batch\u001b[0m\u001b[1;33m[\u001b[0m\u001b[0mi\u001b[0m\u001b[1;33m]\u001b[0m\u001b[1;33m.\u001b[0m\u001b[0mtoarray\u001b[0m\u001b[1;33m(\u001b[0m\u001b[1;33m)\u001b[0m\u001b[1;33m\u001b[0m\u001b[1;33m\u001b[0m\u001b[0m\n\u001b[0;32m    195\u001b[0m \u001b[1;33m\u001b[0m\u001b[0m\n\u001b[1;32m--> 196\u001b[1;33m                 \u001b[0mouts\u001b[0m \u001b[1;33m=\u001b[0m \u001b[0mfit_function\u001b[0m\u001b[1;33m(\u001b[0m\u001b[0mins_batch\u001b[0m\u001b[1;33m)\u001b[0m\u001b[1;33m\u001b[0m\u001b[1;33m\u001b[0m\u001b[0m\n\u001b[0m\u001b[0;32m    197\u001b[0m                 \u001b[0mouts\u001b[0m \u001b[1;33m=\u001b[0m \u001b[0mto_list\u001b[0m\u001b[1;33m(\u001b[0m\u001b[0mouts\u001b[0m\u001b[1;33m)\u001b[0m\u001b[1;33m\u001b[0m\u001b[1;33m\u001b[0m\u001b[0m\n\u001b[0;32m    198\u001b[0m                 \u001b[1;32mfor\u001b[0m \u001b[0ml\u001b[0m\u001b[1;33m,\u001b[0m \u001b[0mo\u001b[0m \u001b[1;32min\u001b[0m \u001b[0mzip\u001b[0m\u001b[1;33m(\u001b[0m\u001b[0mout_labels\u001b[0m\u001b[1;33m,\u001b[0m \u001b[0mouts\u001b[0m\u001b[1;33m)\u001b[0m\u001b[1;33m:\u001b[0m\u001b[1;33m\u001b[0m\u001b[1;33m\u001b[0m\u001b[0m\n",
      "\u001b[1;32m~\\anaconda3\\envs\\BEPGPU\\lib\\site-packages\\tensorflow_core\\python\\keras\\backend.py\u001b[0m in \u001b[0;36m__call__\u001b[1;34m(self, inputs)\u001b[0m\n\u001b[0;32m   3725\u001b[0m         \u001b[0mvalue\u001b[0m \u001b[1;33m=\u001b[0m \u001b[0mmath_ops\u001b[0m\u001b[1;33m.\u001b[0m\u001b[0mcast\u001b[0m\u001b[1;33m(\u001b[0m\u001b[0mvalue\u001b[0m\u001b[1;33m,\u001b[0m \u001b[0mtensor\u001b[0m\u001b[1;33m.\u001b[0m\u001b[0mdtype\u001b[0m\u001b[1;33m)\u001b[0m\u001b[1;33m\u001b[0m\u001b[1;33m\u001b[0m\u001b[0m\n\u001b[0;32m   3726\u001b[0m       \u001b[0mconverted_inputs\u001b[0m\u001b[1;33m.\u001b[0m\u001b[0mappend\u001b[0m\u001b[1;33m(\u001b[0m\u001b[0mvalue\u001b[0m\u001b[1;33m)\u001b[0m\u001b[1;33m\u001b[0m\u001b[1;33m\u001b[0m\u001b[0m\n\u001b[1;32m-> 3727\u001b[1;33m     \u001b[0moutputs\u001b[0m \u001b[1;33m=\u001b[0m \u001b[0mself\u001b[0m\u001b[1;33m.\u001b[0m\u001b[0m_graph_fn\u001b[0m\u001b[1;33m(\u001b[0m\u001b[1;33m*\u001b[0m\u001b[0mconverted_inputs\u001b[0m\u001b[1;33m)\u001b[0m\u001b[1;33m\u001b[0m\u001b[1;33m\u001b[0m\u001b[0m\n\u001b[0m\u001b[0;32m   3728\u001b[0m \u001b[1;33m\u001b[0m\u001b[0m\n\u001b[0;32m   3729\u001b[0m     \u001b[1;31m# EagerTensor.numpy() will often make a copy to ensure memory safety.\u001b[0m\u001b[1;33m\u001b[0m\u001b[1;33m\u001b[0m\u001b[1;33m\u001b[0m\u001b[0m\n",
      "\u001b[1;32m~\\anaconda3\\envs\\BEPGPU\\lib\\site-packages\\tensorflow_core\\python\\eager\\function.py\u001b[0m in \u001b[0;36m__call__\u001b[1;34m(self, *args, **kwargs)\u001b[0m\n\u001b[0;32m   1549\u001b[0m       \u001b[0mTypeError\u001b[0m\u001b[1;33m:\u001b[0m \u001b[0mFor\u001b[0m \u001b[0minvalid\u001b[0m \u001b[0mpositional\u001b[0m\u001b[1;33m/\u001b[0m\u001b[0mkeyword\u001b[0m \u001b[0margument\u001b[0m \u001b[0mcombinations\u001b[0m\u001b[1;33m.\u001b[0m\u001b[1;33m\u001b[0m\u001b[1;33m\u001b[0m\u001b[0m\n\u001b[0;32m   1550\u001b[0m     \"\"\"\n\u001b[1;32m-> 1551\u001b[1;33m     \u001b[1;32mreturn\u001b[0m \u001b[0mself\u001b[0m\u001b[1;33m.\u001b[0m\u001b[0m_call_impl\u001b[0m\u001b[1;33m(\u001b[0m\u001b[0margs\u001b[0m\u001b[1;33m,\u001b[0m \u001b[0mkwargs\u001b[0m\u001b[1;33m)\u001b[0m\u001b[1;33m\u001b[0m\u001b[1;33m\u001b[0m\u001b[0m\n\u001b[0m\u001b[0;32m   1552\u001b[0m \u001b[1;33m\u001b[0m\u001b[0m\n\u001b[0;32m   1553\u001b[0m   \u001b[1;32mdef\u001b[0m \u001b[0m_call_impl\u001b[0m\u001b[1;33m(\u001b[0m\u001b[0mself\u001b[0m\u001b[1;33m,\u001b[0m \u001b[0margs\u001b[0m\u001b[1;33m,\u001b[0m \u001b[0mkwargs\u001b[0m\u001b[1;33m,\u001b[0m \u001b[0mcancellation_manager\u001b[0m\u001b[1;33m=\u001b[0m\u001b[1;32mNone\u001b[0m\u001b[1;33m)\u001b[0m\u001b[1;33m:\u001b[0m\u001b[1;33m\u001b[0m\u001b[1;33m\u001b[0m\u001b[0m\n",
      "\u001b[1;32m~\\anaconda3\\envs\\BEPGPU\\lib\\site-packages\\tensorflow_core\\python\\eager\\function.py\u001b[0m in \u001b[0;36m_call_impl\u001b[1;34m(self, args, kwargs, cancellation_manager)\u001b[0m\n\u001b[0;32m   1589\u001b[0m       raise TypeError(\"Keyword arguments {} unknown. Expected {}.\".format(\n\u001b[0;32m   1590\u001b[0m           list(kwargs.keys()), list(self._arg_keywords)))\n\u001b[1;32m-> 1591\u001b[1;33m     \u001b[1;32mreturn\u001b[0m \u001b[0mself\u001b[0m\u001b[1;33m.\u001b[0m\u001b[0m_call_flat\u001b[0m\u001b[1;33m(\u001b[0m\u001b[0margs\u001b[0m\u001b[1;33m,\u001b[0m \u001b[0mself\u001b[0m\u001b[1;33m.\u001b[0m\u001b[0mcaptured_inputs\u001b[0m\u001b[1;33m,\u001b[0m \u001b[0mcancellation_manager\u001b[0m\u001b[1;33m)\u001b[0m\u001b[1;33m\u001b[0m\u001b[1;33m\u001b[0m\u001b[0m\n\u001b[0m\u001b[0;32m   1592\u001b[0m \u001b[1;33m\u001b[0m\u001b[0m\n\u001b[0;32m   1593\u001b[0m   \u001b[1;32mdef\u001b[0m \u001b[0m_filtered_call\u001b[0m\u001b[1;33m(\u001b[0m\u001b[0mself\u001b[0m\u001b[1;33m,\u001b[0m \u001b[0margs\u001b[0m\u001b[1;33m,\u001b[0m \u001b[0mkwargs\u001b[0m\u001b[1;33m)\u001b[0m\u001b[1;33m:\u001b[0m\u001b[1;33m\u001b[0m\u001b[1;33m\u001b[0m\u001b[0m\n",
      "\u001b[1;32m~\\anaconda3\\envs\\BEPGPU\\lib\\site-packages\\tensorflow_core\\python\\eager\\function.py\u001b[0m in \u001b[0;36m_call_flat\u001b[1;34m(self, args, captured_inputs, cancellation_manager)\u001b[0m\n\u001b[0;32m   1690\u001b[0m       \u001b[1;31m# No tape is watching; skip to running the function.\u001b[0m\u001b[1;33m\u001b[0m\u001b[1;33m\u001b[0m\u001b[1;33m\u001b[0m\u001b[0m\n\u001b[0;32m   1691\u001b[0m       return self._build_call_outputs(self._inference_function.call(\n\u001b[1;32m-> 1692\u001b[1;33m           ctx, args, cancellation_manager=cancellation_manager))\n\u001b[0m\u001b[0;32m   1693\u001b[0m     forward_backward = self._select_forward_and_backward_functions(\n\u001b[0;32m   1694\u001b[0m         \u001b[0margs\u001b[0m\u001b[1;33m,\u001b[0m\u001b[1;33m\u001b[0m\u001b[1;33m\u001b[0m\u001b[0m\n",
      "\u001b[1;32m~\\anaconda3\\envs\\BEPGPU\\lib\\site-packages\\tensorflow_core\\python\\eager\\function.py\u001b[0m in \u001b[0;36mcall\u001b[1;34m(self, ctx, args, cancellation_manager)\u001b[0m\n\u001b[0;32m    543\u001b[0m               \u001b[0minputs\u001b[0m\u001b[1;33m=\u001b[0m\u001b[0margs\u001b[0m\u001b[1;33m,\u001b[0m\u001b[1;33m\u001b[0m\u001b[1;33m\u001b[0m\u001b[0m\n\u001b[0;32m    544\u001b[0m               \u001b[0mattrs\u001b[0m\u001b[1;33m=\u001b[0m\u001b[1;33m(\u001b[0m\u001b[1;34m\"executor_type\"\u001b[0m\u001b[1;33m,\u001b[0m \u001b[0mexecutor_type\u001b[0m\u001b[1;33m,\u001b[0m \u001b[1;34m\"config_proto\"\u001b[0m\u001b[1;33m,\u001b[0m \u001b[0mconfig\u001b[0m\u001b[1;33m)\u001b[0m\u001b[1;33m,\u001b[0m\u001b[1;33m\u001b[0m\u001b[1;33m\u001b[0m\u001b[0m\n\u001b[1;32m--> 545\u001b[1;33m               ctx=ctx)\n\u001b[0m\u001b[0;32m    546\u001b[0m         \u001b[1;32melse\u001b[0m\u001b[1;33m:\u001b[0m\u001b[1;33m\u001b[0m\u001b[1;33m\u001b[0m\u001b[0m\n\u001b[0;32m    547\u001b[0m           outputs = execute.execute_with_cancellation(\n",
      "\u001b[1;32m~\\anaconda3\\envs\\BEPGPU\\lib\\site-packages\\tensorflow_core\\python\\eager\\execute.py\u001b[0m in \u001b[0;36mquick_execute\u001b[1;34m(op_name, num_outputs, inputs, attrs, ctx, name)\u001b[0m\n\u001b[0;32m     65\u001b[0m     \u001b[1;32melse\u001b[0m\u001b[1;33m:\u001b[0m\u001b[1;33m\u001b[0m\u001b[1;33m\u001b[0m\u001b[0m\n\u001b[0;32m     66\u001b[0m       \u001b[0mmessage\u001b[0m \u001b[1;33m=\u001b[0m \u001b[0me\u001b[0m\u001b[1;33m.\u001b[0m\u001b[0mmessage\u001b[0m\u001b[1;33m\u001b[0m\u001b[1;33m\u001b[0m\u001b[0m\n\u001b[1;32m---> 67\u001b[1;33m     \u001b[0msix\u001b[0m\u001b[1;33m.\u001b[0m\u001b[0mraise_from\u001b[0m\u001b[1;33m(\u001b[0m\u001b[0mcore\u001b[0m\u001b[1;33m.\u001b[0m\u001b[0m_status_to_exception\u001b[0m\u001b[1;33m(\u001b[0m\u001b[0me\u001b[0m\u001b[1;33m.\u001b[0m\u001b[0mcode\u001b[0m\u001b[1;33m,\u001b[0m \u001b[0mmessage\u001b[0m\u001b[1;33m)\u001b[0m\u001b[1;33m,\u001b[0m \u001b[1;32mNone\u001b[0m\u001b[1;33m)\u001b[0m\u001b[1;33m\u001b[0m\u001b[1;33m\u001b[0m\u001b[0m\n\u001b[0m\u001b[0;32m     68\u001b[0m   \u001b[1;32mexcept\u001b[0m \u001b[0mTypeError\u001b[0m \u001b[1;32mas\u001b[0m \u001b[0me\u001b[0m\u001b[1;33m:\u001b[0m\u001b[1;33m\u001b[0m\u001b[1;33m\u001b[0m\u001b[0m\n\u001b[0;32m     69\u001b[0m     keras_symbolic_tensors = [\n",
      "\u001b[1;32m~\\anaconda3\\envs\\BEPGPU\\lib\\site-packages\\six.py\u001b[0m in \u001b[0;36mraise_from\u001b[1;34m(value, from_value)\u001b[0m\n",
      "\u001b[1;31mInternalError\u001b[0m:  Blas GEMV launch failed:  m=16, n=32\n\t [[node dense_1/MatMul (defined at C:\\Users\\heisz\\anaconda3\\envs\\BEPGPU\\lib\\site-packages\\keras\\backend\\tensorflow_backend.py:3009) ]] [Op:__inference_keras_scratch_graph_358]\n\nFunction call stack:\nkeras_scratch_graph\n"
     ]
    }
   ],
   "source": [
    "#trainNetwork(model, trainingInput, 0.3, numberOfEpochs=30, batchSize=32, verboseSetting=1)\n",
    "model.fit(trainingInput[0], trainingInput[1], epochs=100, verbose=1)\n",
    "models.append([model, 'model0'])\n",
    "print()\n",
    "\n",
    "for i in range(len(model.layers)):\n",
    "    print('Layer ' + str(i) + ': ', model.layers[i].get_weights())"
   ]
  },
  {
   "cell_type": "code",
   "execution_count": null,
   "metadata": {},
   "outputs": [],
   "source": [
    "#model = models[0][0]\n",
    "print(model.evaluate(validationInput[0], validationInput[1]))\n",
    "\n",
    "y = [[],[]]\n",
    "for i in range(len(x)):\n",
    "    y[0].append(model.predict([[testData['eigenvalues'][i]]])[0][0])\n",
    "    y[1].append(testData['potentialEnergy'][i])\n",
    "\n",
    "\n",
    "fig, ax1 = plt.subplots(figsize=(8, 8))\n",
    "ax1.plot(list(x), y[0], label='Predicted potential energy')\n",
    "ax1.plot(list(x), y[1], label='Real potential energy')\n",
    "ax1.legend()\n",
    "ax1.set_xlabel('Position of atom')\n",
    "ax1.set_ylabel('Potential energy')\n",
    "ax1.set_title('Predicted potential energy and real potential energy for different positions.')\n",
    "#ax1.set_ylim(-0.75 * offset , 1.5 * max(y[1]))\n",
    "plt.show()\n",
    "\n",
    "makePredictionPlot(model, validationData)\n",
    "\n",
    "for i in validationPlots:\n",
    "    plotAndPredict(model, validationData, i)\n",
    "\n",
    "#\"\"\"\n",
    "print(model.summary())\n",
    "for layer in model.layers:\n",
    "    print(layer.get_weights())\n",
    "#\"\"\"\n",
    "print()\n"
   ]
  },
  {
   "cell_type": "markdown",
   "metadata": {},
   "source": [
    "## Model 1: 1024 wide, 1 layer"
   ]
  },
  {
   "cell_type": "code",
   "execution_count": null,
   "metadata": {},
   "outputs": [],
   "source": [
    "settings = [['Dense', 1024, 'softplus', False], ['Dense', 1, 'linear', False]]\n",
    "learningRate = 1*10**-3\n",
    "\n",
    "model = makeNetwork(inputSize, settings, learningRate, 'he_uniform')#keras.initializers.glorot_uniform(seed=None)\n",
    "model.summary()\n",
    "\n",
    "for i in range(len(model.layers)):\n",
    "    print('Layer ' + str(i) + ': ', model.layers[i].get_weights())"
   ]
  },
  {
   "cell_type": "code",
   "execution_count": null,
   "metadata": {},
   "outputs": [],
   "source": [
    "trainNetwork(model, trainingInput, 0.3, numberOfEpochs=100, batchSize=32, verboseSetting=1)\n",
    "models.append([model, 'model1'])\n",
    "print()"
   ]
  },
  {
   "cell_type": "code",
   "execution_count": null,
   "metadata": {},
   "outputs": [],
   "source": [
    "#model = models[1][0]\n",
    "print(model.evaluate(validationInput[0], validationInput[1]))\n",
    "\n",
    "y = [[],[]]\n",
    "for i in range(len(x)):\n",
    "    y[0].append(model.predict([[testData['eigenvalues'][i]]])[0][0])\n",
    "    y[1].append(testData['potentialEnergy'][i])\n",
    "\n",
    "\n",
    "fig, ax1 = plt.subplots(figsize=(8, 8))\n",
    "ax1.plot(list(x), y[0], label='Predicted potential energy')\n",
    "ax1.plot(list(x), y[1], label='Real potential energy')\n",
    "ax1.legend()\n",
    "ax1.set_xlabel('Position of atom')\n",
    "ax1.set_ylabel('Potential energy')\n",
    "ax1.set_title('Predicted potential energy and real potential energy for different positions.')\n",
    "#ax1.set_ylim(-0.75 * offset , 1.5 * max(y[1]))\n",
    "plt.show()\n",
    "\n",
    "makePredictionPlot(model, validationData)\n",
    "\n",
    "for i in validationPlots:\n",
    "    plotAndPredict(model, validationData, i)\n",
    "\n",
    "#\"\"\"\n",
    "print(model.summary())\n",
    "for layer in model.layers:\n",
    "    print(layer.get_weights())\n",
    "#\"\"\"\n",
    "print()"
   ]
  },
  {
   "cell_type": "markdown",
   "metadata": {},
   "source": [
    "\n",
    "# ijgrhm;grgr\n",
    "# iohjrthiokljnniklthttrh\n",
    "# Esifgreiogrienrne\n",
    "# nrgklngekmgre\n",
    "# ijgrhm;grgr\n",
    "# iohjrthiokljnniklthttrh\n",
    "# Esifgreiogrienrne\n",
    "# nrgklngekmgre\n",
    "# ijgrhm;grgr\n",
    "# iohjrthiokljnniklthttrh\n",
    "# Esifgreiogrienrne\n",
    "# nrgklngekmgre\n",
    "# ijgrhm;grgr\n",
    "# iohjrthiokljnniklthttrh\n",
    "# Esifgreiogrienrne\n",
    "# nrgklngekmgre\n",
    "## Model 2: 2048 wide, 1 layer"
   ]
  },
  {
   "cell_type": "code",
   "execution_count": null,
   "metadata": {},
   "outputs": [],
   "source": [
    "settings = [['Dense', 2048, 'softplus', False], ['Dense', 1, 'linear', False]]\n",
    "learningRate = 5*10**-4\n",
    "\n",
    "model = makeNetwork(inputSize, settings, learningRate, 'he_uniform')\n",
    "model.summary()\n",
    "\n",
    "for i in range(len(model.layers)):\n",
    "    print('Layer ' + str(i) + ': ', model.layers[i].get_weights())"
   ]
  },
  {
   "cell_type": "code",
   "execution_count": null,
   "metadata": {},
   "outputs": [],
   "source": [
    "trainNetwork(model, trainingInput, 0.3, numberOfEpochs=30, batchSize=32, verboseSetting=1)\n",
    "models.append([model, 'model2'])\n",
    "print()"
   ]
  },
  {
   "cell_type": "code",
   "execution_count": null,
   "metadata": {},
   "outputs": [],
   "source": [
    "#model = models[2][0]\n",
    "print(model.evaluate(validationInput[0], validationInput[1]))\n",
    "\n",
    "y = [[],[]]\n",
    "for i in range(len(x)):\n",
    "    y[0].append(model.predict([[testData['eigenvalues'][i]]])[0][0])\n",
    "    y[1].append(testData['potentialEnergy'][i])\n",
    "\n",
    "\n",
    "fig, ax1 = plt.subplots(figsize=(8, 8))\n",
    "ax1.plot(list(x), y[0], label='Predicted potential energy')\n",
    "ax1.plot(list(x), y[1], label='Real potential energy')\n",
    "ax1.legend()\n",
    "ax1.set_xlabel('Position of atom')\n",
    "ax1.set_ylabel('Potential energy')\n",
    "ax1.set_title('Predicted potential energy and real potential energy for different positions.')\n",
    "#ax1.set_ylim(-0.75 * offset , 1.5 * max(y[1]))\n",
    "plt.show()\n",
    "\n",
    "makePredictionPlot(model, validationData)\n",
    "\n",
    "for i in validationPlots:\n",
    "    plotAndPredict(model, validationData, i)\n",
    "\n",
    "\"\"\"\n",
    "print(model.summary())\n",
    "for layer in model.layers:\n",
    "    print(layer.get_weights())\n",
    "#\"\"\"\n",
    "print()"
   ]
  },
  {
   "cell_type": "markdown",
   "metadata": {},
   "source": [
    "## Model 3: 4096 wide, 1 layer"
   ]
  },
  {
   "cell_type": "code",
   "execution_count": null,
   "metadata": {},
   "outputs": [],
   "source": [
    "settings = [['Dense', 4096, 'softplus', False], ['Dense', 1, 'linear', False]]\n",
    "learningRate = 5*10**-4\n",
    "\n",
    "model = makeNetwork(inputSize, settings, learningRate)\n",
    "model.summary()"
   ]
  },
  {
   "cell_type": "code",
   "execution_count": null,
   "metadata": {},
   "outputs": [],
   "source": [
    "trainNetwork(model, trainingInput, 0.3, numberOfEpochs=30, batchSize=32, verboseSetting=1)\n",
    "models.append([model, 'model3'])\n",
    "print()"
   ]
  },
  {
   "cell_type": "code",
   "execution_count": null,
   "metadata": {},
   "outputs": [],
   "source": [
    "#model = models[3][0]\n",
    "print(model.evaluate(validationInput[0], validationInput[1]))\n",
    "\n",
    "y = [[],[]]\n",
    "for i in range(len(x)):\n",
    "    y[0].append(model.predict([[testData['eigenvalues'][i]]])[0][0])\n",
    "    y[1].append(testData['potentialEnergy'][i])\n",
    "\n",
    "\n",
    "fig, ax1 = plt.subplots(figsize=(8, 8))\n",
    "ax1.plot(list(x), y[0], label='Predicted potential energy')\n",
    "ax1.plot(list(x), y[1], label='Real potential energy')\n",
    "ax1.legend()\n",
    "ax1.set_xlabel('Position of atom')\n",
    "ax1.set_ylabel('Potential energy')\n",
    "ax1.set_title('Predicted potential energy and real potential energy for different positions.')\n",
    "#ax1.set_ylim(-0.75 * offset , 1.5 * max(y[1]))\n",
    "plt.show()\n",
    "\n",
    "for i in validationPlots:\n",
    "    plotAndPredict(model, validationData, i)\n",
    "\n",
    "\"\"\"\n",
    "print(model.summary())\n",
    "for layer in model.layers:\n",
    "    print(layer.get_weights())\n",
    "#\"\"\"\n",
    "print()"
   ]
  },
  {
   "cell_type": "markdown",
   "metadata": {},
   "source": [
    "## Model 4: 8192 wide, 1 layer"
   ]
  },
  {
   "cell_type": "code",
   "execution_count": null,
   "metadata": {},
   "outputs": [],
   "source": [
    "settings = [['Dense', 8192, 'softplus', False], ['Dense', 1, 'linear', False]]\n",
    "learningRate = 5*10**-4\n",
    "\n",
    "model = makeNetwork(inputSize, settings, learningRate)\n",
    "model.summary()"
   ]
  },
  {
   "cell_type": "code",
   "execution_count": null,
   "metadata": {},
   "outputs": [],
   "source": [
    "trainNetwork(model, trainingInput, 0.3, numberOfEpochs=30, batchSize=32, verboseSetting=1)\n",
    "models.append([model, 'model4'])\n",
    "print()"
   ]
  },
  {
   "cell_type": "code",
   "execution_count": null,
   "metadata": {},
   "outputs": [],
   "source": [
    "#model = models[4][0]\n",
    "print(model.evaluate(validationInput[0], validationInput[1]))\n",
    "\n",
    "y = [[],[]]\n",
    "for i in range(len(x)):\n",
    "    y[0].append(model.predict([[testData['eigenvalues'][i]]])[0][0])\n",
    "    y[1].append(testData['potentialEnergy'][i])\n",
    "\n",
    "\n",
    "fig, ax1 = plt.subplots(figsize=(8, 8))\n",
    "ax1.plot(list(x), y[0], label='Predicted potential energy')\n",
    "ax1.plot(list(x), y[1], label='Real potential energy')\n",
    "ax1.legend()\n",
    "ax1.set_xlabel('Position of atom')\n",
    "ax1.set_ylabel('Potential energy')\n",
    "ax1.set_title('Predicted potential energy and real potential energy for different positions.')\n",
    "#ax1.set_ylim(-0.75 * offset , 1.5 * max(y[1]))\n",
    "plt.show()\n",
    "\n",
    "makePredictionPlot(model, validationData)\n",
    "\n",
    "for i in validationPlots:\n",
    "    plotAndPredict(model, validationData, i)\n",
    "\n",
    "\"\"\"\n",
    "print(model.summary())\n",
    "for layer in model.layers:\n",
    "    print(layer.get_weights())\n",
    "#\"\"\"\n",
    "print()"
   ]
  },
  {
   "cell_type": "markdown",
   "metadata": {},
   "source": [
    "## Model 5: 16384 wide, 1 layer"
   ]
  },
  {
   "cell_type": "code",
   "execution_count": null,
   "metadata": {},
   "outputs": [],
   "source": [
    "settings = [['Dense', 16384, 'softplus', False], ['Dense', 1, 'linear', False]]\n",
    "learningRate = 5*10**-4\n",
    "\n",
    "model = makeNetwork(inputSize, settings, learningRate)\n",
    "model.summary()"
   ]
  },
  {
   "cell_type": "code",
   "execution_count": null,
   "metadata": {},
   "outputs": [],
   "source": [
    "trainNetwork(model, trainingInput, 0.3, numberOfEpochs=30, batchSize=32, verboseSetting=1)\n",
    "models.append([model, 'model5'])\n",
    "print()"
   ]
  },
  {
   "cell_type": "code",
   "execution_count": null,
   "metadata": {},
   "outputs": [],
   "source": [
    "#model = models[5][0]\n",
    "print(model.evaluate(validationInput[0], validationInput[1]))\n",
    "\n",
    "y = [[],[]]\n",
    "for i in range(len(x)):\n",
    "    y[0].append(model.predict([[testData['eigenvalues'][i]]])[0][0])\n",
    "    y[1].append(testData['potentialEnergy'][i])\n",
    "\n",
    "\n",
    "fig, ax1 = plt.subplots(figsize=(8, 8))\n",
    "ax1.plot(list(x), y[0], label='Predicted potential energy')\n",
    "ax1.plot(list(x), y[1], label='Real potential energy')\n",
    "ax1.legend()\n",
    "ax1.set_xlabel('Position of atom')\n",
    "ax1.set_ylabel('Potential energy')\n",
    "ax1.set_title('Predicted potential energy and real potential energy for different positions.')\n",
    "#ax1.set_ylim(-0.75 * offset , 1.5 * max(y[1]))\n",
    "plt.show()\n",
    "\n",
    "makePredictionPlot(model, validationData)\n",
    "\n",
    "for i in validationPlots:\n",
    "    plotAndPredict(model, validationData, i)\n",
    "\n",
    "\"\"\"\n",
    "print(model.summary())\n",
    "for layer in model.layers:\n",
    "    print(layer.get_weights())\n",
    "#\"\"\"\n",
    "print()"
   ]
  },
  {
   "cell_type": "markdown",
   "metadata": {},
   "source": [
    "## Model 6: 1024 wide, 2 layer"
   ]
  },
  {
   "cell_type": "code",
   "execution_count": null,
   "metadata": {},
   "outputs": [],
   "source": [
    "settings = [['Dense', 1024, 'softplus', False], ['Dense', 1024, 'softplus', False], ['Dense', 1, 'linear', False]]\n",
    "learningRate = 5*10**-4\n",
    "\n",
    "model = makeNetwork(inputSize, settings, learningRate)\n",
    "model.summary()"
   ]
  },
  {
   "cell_type": "code",
   "execution_count": null,
   "metadata": {},
   "outputs": [],
   "source": [
    "trainNetwork(model, trainingInput, 0.3, numberOfEpochs=30, batchSize=32, verboseSetting=1)\n",
    "models.append([model, 'model6'])\n",
    "print()"
   ]
  },
  {
   "cell_type": "code",
   "execution_count": null,
   "metadata": {},
   "outputs": [],
   "source": [
    "#model = models[6][0]\n",
    "print(model.evaluate(validationInput[0], validationInput[1]))\n",
    "\n",
    "y = [[],[]]\n",
    "for i in range(len(x)):\n",
    "    y[0].append(model.predict([[testData['eigenvalues'][i]]])[0][0])\n",
    "    y[1].append(testData['potentialEnergy'][i])\n",
    "\n",
    "\n",
    "fig, ax1 = plt.subplots(figsize=(8, 8))\n",
    "ax1.plot(list(x), y[0], label='Predicted potential energy')\n",
    "ax1.plot(list(x), y[1], label='Real potential energy')\n",
    "ax1.legend()\n",
    "ax1.set_xlabel('Position of atom')\n",
    "ax1.set_ylabel('Potential energy')\n",
    "ax1.set_title('Predicted potential energy and real potential energy for different positions.')\n",
    "#ax1.set_ylim(-0.75 * offset , 1.5 * max(y[1]))\n",
    "plt.show()\n",
    "\n",
    "makePredictionPlot(model, validationData)\n",
    "\n",
    "for i in validationPlots:\n",
    "    plotAndPredict(model, validationData, i)\n",
    "\n",
    "\"\"\"\n",
    "print(model.summary())\n",
    "for layer in model.layers:\n",
    "    print(layer.get_weights())\n",
    "#\"\"\"\n",
    "print()"
   ]
  },
  {
   "cell_type": "markdown",
   "metadata": {},
   "source": [
    "## Model 7: 2048 wide, 2 layers"
   ]
  },
  {
   "cell_type": "code",
   "execution_count": null,
   "metadata": {},
   "outputs": [],
   "source": [
    "settings = [['Dense', 2048, 'softplus', False], ['Dense', 2048, 'softplus', False], ['Dense', 1, 'linear', False]]\n",
    "learningRate = 5*10**-4\n",
    "\n",
    "model = makeNetwork(inputSize, settings, learningRate)\n",
    "model.summary()"
   ]
  },
  {
   "cell_type": "code",
   "execution_count": null,
   "metadata": {},
   "outputs": [],
   "source": [
    "trainNetwork(model, trainingInput, 0.3, numberOfEpochs=30, batchSize=32, verboseSetting=1)\n",
    "models.append([model, 'model7'])\n",
    "print()"
   ]
  },
  {
   "cell_type": "code",
   "execution_count": null,
   "metadata": {},
   "outputs": [],
   "source": [
    "#model = models[7][0]\n",
    "print(model.evaluate(validationInput[0], validationInput[1]))\n",
    "\n",
    "y = [[],[]]\n",
    "for i in range(len(x)):\n",
    "    y[0].append(model.predict([[testData['eigenvalues'][i]]])[0][0])\n",
    "    y[1].append(testData['potentialEnergy'][i])\n",
    "\n",
    "\n",
    "fig, ax1 = plt.subplots(figsize=(8, 8))\n",
    "ax1.plot(list(x), y[0], label='Predicted potential energy')\n",
    "ax1.plot(list(x), y[1], label='Real potential energy')\n",
    "ax1.legend()\n",
    "ax1.set_xlabel('Position of atom')\n",
    "ax1.set_ylabel('Potential energy')\n",
    "ax1.set_title('Predicted potential energy and real potential energy for different positions.')\n",
    "#ax1.set_ylim(-0.75 * offset , 1.5 * max(y[1]))\n",
    "plt.show()\n",
    "\n",
    "makePredictionPlot(model, validationData)\n",
    "\n",
    "for i in validationPlots:\n",
    "    plotAndPredict(model, validationData, i)\n",
    "\n",
    "\"\"\"\n",
    "print(model.summary())\n",
    "for layer in model.layers:\n",
    "    print(layer.get_weights())\n",
    "#\"\"\"\n",
    "print()"
   ]
  },
  {
   "cell_type": "markdown",
   "metadata": {},
   "source": [
    "## Model 8: 1024 wide, 3 layers"
   ]
  },
  {
   "cell_type": "code",
   "execution_count": null,
   "metadata": {},
   "outputs": [],
   "source": [
    "settings = [['Dense', 1024, 'softplus', False], ['Dense', 1024, 'softplus', False], ['Dense', 1024, 'softplus', False], ['Dense', 1, 'linear', False]]\n",
    "learningRate = 5*10**-4\n",
    "\n",
    "model = makeNetwork(inputSize, settings, learningRate)\n",
    "model.summary()"
   ]
  },
  {
   "cell_type": "code",
   "execution_count": null,
   "metadata": {},
   "outputs": [],
   "source": [
    "trainNetwork(model, trainingInput, 0.3, numberOfEpochs=30, batchSize=32, verboseSetting=1)\n",
    "models.append([model, 'model8'])\n",
    "print()"
   ]
  },
  {
   "cell_type": "code",
   "execution_count": null,
   "metadata": {},
   "outputs": [],
   "source": [
    "#model = models[8][0]\n",
    "print(model.evaluate(validationInput[0], validationInput[1]))\n",
    "\n",
    "y = [[],[]]\n",
    "for i in range(len(x)):\n",
    "    y[0].append(model.predict([[testData['eigenvalues'][i]]])[0][0])\n",
    "    y[1].append(testData['potentialEnergy'][i])\n",
    "\n",
    "\n",
    "fig, ax1 = plt.subplots(figsize=(8, 8))\n",
    "ax1.plot(list(x), y[0], label='Predicted potential energy')\n",
    "ax1.plot(list(x), y[1], label='Real potential energy')\n",
    "ax1.legend()\n",
    "ax1.set_xlabel('Position of atom')\n",
    "ax1.set_ylabel('Potential energy')\n",
    "ax1.set_title('Predicted potential energy and real potential energy for different positions.')\n",
    "#ax1.set_ylim(-0.75 * offset , 1.5 * max(y[1]))\n",
    "plt.show()\n",
    "\n",
    "makePredictionPlot(model, validationData)\n",
    "\n",
    "for i in validationPlots:\n",
    "    plotAndPredict(model, validationData, i)\n",
    "\n",
    "\"\"\"\n",
    "print(model.summary())\n",
    "for layer in model.layers:\n",
    "    print(layer.get_weights())\n",
    "#\"\"\"\n",
    "print()"
   ]
  },
  {
   "cell_type": "markdown",
   "metadata": {},
   "source": [
    "## Model 9: 2048 wide, 3 layers"
   ]
  },
  {
   "cell_type": "code",
   "execution_count": null,
   "metadata": {},
   "outputs": [],
   "source": [
    "settings = [['Dense', 2048, 'softplus', False], ['Dense', 2048, 'softplus', False], ['Dense', 2048, 'softplus', False], ['Dense', 1, 'linear', False]]\n",
    "learningRate = 5*10**-4\n",
    "\n",
    "model = makeNetwork(inputSize, settings, learningRate)\n",
    "model.summary()"
   ]
  },
  {
   "cell_type": "code",
   "execution_count": null,
   "metadata": {},
   "outputs": [],
   "source": [
    "trainNetwork(model, trainingInput, 0.3, numberOfEpochs=30, batchSize=32, verboseSetting=1)\n",
    "models.append([model, 'model9'])\n",
    "print()"
   ]
  },
  {
   "cell_type": "code",
   "execution_count": null,
   "metadata": {},
   "outputs": [],
   "source": [
    "#model = models[9[0]\n",
    "print(model.evaluate(validationInput[0], validationInput[1]))\n",
    "\n",
    "y = [[],[]]\n",
    "for i in range(len(x)):\n",
    "    y[0].append(model.predict([[testData['eigenvalues'][i]]])[0][0])\n",
    "    y[1].append(testData['potentialEnergy'][i])\n",
    "\n",
    "\n",
    "fig, ax1 = plt.subplots(figsize=(8, 8))\n",
    "ax1.plot(list(x), y[0], label='Predicted potential energy')\n",
    "ax1.plot(list(x), y[1], label='Real potential energy')\n",
    "ax1.legend()\n",
    "ax1.set_xlabel('Position of atom')\n",
    "ax1.set_ylabel('Potential energy')\n",
    "ax1.set_title('Predicted potential energy and real potential energy for different positions.')\n",
    "#ax1.set_ylim(-0.75 * offset , 1.5 * max(y[1]))\n",
    "plt.show()\n",
    "\n",
    "makePredictionPlot(model, validationData)\n",
    "\n",
    "for i in validationPlots:\n",
    "    plotAndPredict(model, validationData, i)\n",
    "\n",
    "\"\"\"\n",
    "print(model.summary())\n",
    "for layer in model.layers:\n",
    "    print(layer.get_weights())\n",
    "#\"\"\"\n",
    "print()"
   ]
  },
  {
   "cell_type": "markdown",
   "metadata": {},
   "source": [
    "## Model 10: 1024 wide, 4 layers"
   ]
  },
  {
   "cell_type": "code",
   "execution_count": null,
   "metadata": {},
   "outputs": [],
   "source": [
    "settings = [['Dense', 1024, 'softplus', False], ['Dense', 1024, 'softplus', False], ['Dense', 1024, 'softplus', False], ['Dense', 1024, 'softplus', False], ['Dense', 1, 'linear', False]]\n",
    "learningRate = 5*10**-4\n",
    "\n",
    "model = makeNetwork(inputSize, settings, learningRate)\n",
    "model.summary()"
   ]
  },
  {
   "cell_type": "code",
   "execution_count": null,
   "metadata": {},
   "outputs": [],
   "source": [
    "trainNetwork(model, trainingInput, 0.3, numberOfEpochs=30, batchSize=32, verboseSetting=1)\n",
    "models.append([model, 'model10'])\n",
    "print()"
   ]
  },
  {
   "cell_type": "code",
   "execution_count": null,
   "metadata": {},
   "outputs": [],
   "source": [
    "#model = models[10][0]\n",
    "print(model.evaluate(validationInput[0], validationInput[1]))\n",
    "\n",
    "y = [[],[]]\n",
    "for i in range(len(x)):\n",
    "    y[0].append(model.predict([[testData['eigenvalues'][i]]])[0][0])\n",
    "    y[1].append(testData['potentialEnergy'][i])\n",
    "\n",
    "\n",
    "fig, ax1 = plt.subplots(figsize=(8, 8))\n",
    "ax1.plot(list(x), y[0], label='Predicted potential energy')\n",
    "ax1.plot(list(x), y[1], label='Real potential energy')\n",
    "ax1.legend()\n",
    "ax1.set_xlabel('Position of atom')\n",
    "ax1.set_ylabel('Potential energy')\n",
    "ax1.set_title('Predicted potential energy and real potential energy for different positions.')\n",
    "#ax1.set_ylim(-0.75 * offset , 1.5 * max(y[1]))\n",
    "plt.show()\n",
    "\n",
    "makePredictionPlot(model, validationData)\n",
    "\n",
    "for i in validationPlots:\n",
    "    plotAndPredict(model, validationData, i)\n",
    "\n",
    "\"\"\"\n",
    "print(model.summary())\n",
    "for layer in model.layers:\n",
    "    print(layer.get_weights())\n",
    "#\"\"\"\n",
    "print()"
   ]
  },
  {
   "cell_type": "markdown",
   "metadata": {},
   "source": [
    "## Model 11: 1024 wide, 5 layers"
   ]
  },
  {
   "cell_type": "code",
   "execution_count": null,
   "metadata": {},
   "outputs": [],
   "source": [
    "settings = [['Dense', 1024, 'softplus', False], ['Dense', 1024, 'softplus', False], ['Dense', 1024, 'softplus', False], ['Dense', 1024, 'softplus', False], ['Dense', 1024, 'softplus', False], ['Dense', 1, 'linear', False]]\n",
    "learningRate = 5*10**-4\n",
    "\n",
    "model = makeNetwork(inputSize, settings, learningRate)\n",
    "model.summary()"
   ]
  },
  {
   "cell_type": "code",
   "execution_count": null,
   "metadata": {},
   "outputs": [],
   "source": [
    "trainNetwork(model, trainingInput, 0.3, numberOfEpochs=30, batchSize=32, verboseSetting=1)\n",
    "models.append([model, 'model11'])\n",
    "print()"
   ]
  },
  {
   "cell_type": "code",
   "execution_count": null,
   "metadata": {},
   "outputs": [],
   "source": [
    "#model = models[11][0]\n",
    "print(model.evaluate(validationInput[0], validationInput[1]))\n",
    "\n",
    "y = [[],[]]\n",
    "for i in range(len(x)):\n",
    "    y[0].append(model.predict([[testData['eigenvalues'][i]]])[0][0])\n",
    "    y[1].append(testData['potentialEnergy'][i])\n",
    "\n",
    "\n",
    "fig, ax1 = plt.subplots(figsize=(8, 8))\n",
    "ax1.plot(list(x), y[0], label='Predicted potential energy')\n",
    "ax1.plot(list(x), y[1], label='Real potential energy')\n",
    "ax1.legend()\n",
    "ax1.set_xlabel('Position of atom')\n",
    "ax1.set_ylabel('Potential energy')\n",
    "ax1.set_title('Predicted potential energy and real potential energy for different positions.')\n",
    "#ax1.set_ylim(-0.75 * offset , 1.5 * max(y[1]))\n",
    "plt.show()\n",
    "\n",
    "makePredictionPlot(model, validationData)\n",
    "\n",
    "for i in range(0,10):\n",
    "    plotAndPredict(model, validationData, validationData.index[i])\n",
    "\n",
    "\"\"\"\n",
    "print(model.summary())\n",
    "for layer in model.layers:\n",
    "    print(layer.get_weights())\n",
    "#\"\"\"\n",
    "print()"
   ]
  },
  {
   "cell_type": "markdown",
   "metadata": {},
   "source": [
    "## Saving a model"
   ]
  },
  {
   "cell_type": "code",
   "execution_count": null,
   "metadata": {},
   "outputs": [],
   "source": [
    "for i in range(len(models)):\n",
    "    model = models[i][0]\n",
    "    print(models[i][1])\n",
    "    print(model.summary())\n",
    "    print(model.evaluate(validationInput[0], validationInput[1], verbose=0))\n",
    "    print('\\n \\n')\n",
    "\n",
    "#model = models[1][0]\n",
    "#model.save('model1.h5')\n",
    "#model = load_model('model1.h5')"
   ]
  }
 ],
 "metadata": {
  "kernelspec": {
   "display_name": "Python 3",
   "language": "python",
   "name": "python3"
  },
  "language_info": {
   "codemirror_mode": {
    "name": "ipython",
    "version": 3
   },
   "file_extension": ".py",
   "mimetype": "text/x-python",
   "name": "python",
   "nbconvert_exporter": "python",
   "pygments_lexer": "ipython3",
   "version": "3.7.7"
  }
 },
 "nbformat": 4,
 "nbformat_minor": 2
}
