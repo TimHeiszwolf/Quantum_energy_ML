{
 "cells": [
  {
   "cell_type": "markdown",
   "metadata": {},
   "source": [
    "# Importing modules"
   ]
  },
  {
   "cell_type": "code",
   "execution_count": 1,
   "metadata": {},
   "outputs": [],
   "source": [
    "import numpy as np\n",
    "import matplotlib.pyplot as plt\n",
    "import pandas as pd\n",
    "from matplotlib.ticker import (AutoMinorLocator, MultipleLocator)"
   ]
  },
  {
   "cell_type": "markdown",
   "metadata": {},
   "source": [
    "# Importing own code"
   ]
  },
  {
   "cell_type": "code",
   "execution_count": 2,
   "metadata": {},
   "outputs": [],
   "source": [
    "from generateSpace import *\n",
    "from plotLattice import *"
   ]
  },
  {
   "cell_type": "markdown",
   "metadata": {},
   "source": [
    "# Running doc tests"
   ]
  },
  {
   "cell_type": "code",
   "execution_count": 3,
   "metadata": {},
   "outputs": [
    {
     "data": {
      "text/plain": [
       "TestResults(failed=0, attempted=0)"
      ]
     },
     "execution_count": 3,
     "metadata": {},
     "output_type": "execute_result"
    }
   ],
   "source": [
    "import doctest\n",
    "doctest.testmod()"
   ]
  },
  {
   "cell_type": "markdown",
   "metadata": {},
   "source": [
    "# Generating database"
   ]
  },
  {
   "cell_type": "code",
   "execution_count": null,
   "metadata": {},
   "outputs": [],
   "source": []
  },
  {
   "cell_type": "code",
   "execution_count": 4,
   "metadata": {},
   "outputs": [
    {
     "name": "stdout",
     "output_type": "stream",
     "text": [
      "[array([-0.7, -0.5]), array([-0.1, -0.1]), array([-0.4, -0.6]), array([-0.5, -0.8]), array([-0.7,  0.5]), array([-0.1,  0.9]), array([-0.4,  0.4]), array([-0.5,  0.2]), array([-0.7,  1.5]), array([-0.1,  1.9]), array([-0.4,  1.4]), array([-0.5,  1.2]), array([ 0.3, -0.5]), array([ 0.9, -0.1]), array([ 0.6, -0.6]), array([ 0.5, -0.8]), array([0.3, 0.5]), array([0.9, 0.9]), array([0.6, 0.4]), array([0.5, 0.2]), array([0.3, 1.5]), array([0.9, 1.9]), array([0.6, 1.4]), array([0.5, 1.2]), array([ 1.3, -0.5]), array([ 1.9, -0.1]), array([ 1.6, -0.6]), array([ 1.5, -0.8]), array([1.3, 0.5]), array([1.9, 0.9]), array([1.6, 0.4]), array([1.5, 0.2]), array([1.3, 1.5]), array([1.9, 1.9]), array([1.6, 1.4]), array([1.5, 1.2])]\n"
     ]
    },
    {
     "data": {
      "image/png": "[encoded data removed]",
      "text/plain": [
       "<Figure size 576x576 with 1 Axes>"
      ]
     },
     "metadata": {
      "needs_background": "light"
     },
     "output_type": "display_data"
    },
    {
     "data": {
      "image/png": "[encoded data removed]",
      "text/plain": [
       "<Figure size 576x576 with 1 Axes>"
      ]
     },
     "metadata": {
      "needs_background": "light"
     },
     "output_type": "display_data"
    }
   ],
   "source": [
    "atoms = [np.array([0.3, 0.5]), np.array([0.9, 0.9]), np.array([0.6, 0.4]), np.array([0.5, 0.2])]\n",
    "\n",
    "totalSpace = generateSpace(atoms, 1, 1.0)\n",
    "\n",
    "print(totalSpace)\n",
    "\n",
    "plotLattice(totalSpace)\n",
    "plotLattice(atoms)"
   ]
  }
 ],
 "metadata": {
  "kernelspec": {
   "display_name": "Python 3",
   "language": "python",
   "name": "python3"
  },
  "language_info": {
   "codemirror_mode": {
    "name": "ipython",
    "version": 3
   },
   "file_extension": ".py",
   "mimetype": "text/x-python",
   "name": "python",
   "nbconvert_exporter": "python",
   "pygments_lexer": "ipython3",
   "version": "3.7.4"
  }
 },
 "nbformat": 4,
 "nbformat_minor": 2
}
