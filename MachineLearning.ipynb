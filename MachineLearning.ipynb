{
 "cells": [
  {
   "cell_type": "markdown",
   "metadata": {},
   "source": [
    "# Importing"
   ]
  },
  {
   "cell_type": "markdown",
   "metadata": {},
   "source": [
    "## Importing modules"
   ]
  },
  {
   "cell_type": "code",
   "execution_count": 1,
   "metadata": {},
   "outputs": [
    {
     "name": "stderr",
     "output_type": "stream",
     "text": [
      "Using TensorFlow backend.\n"
     ]
    }
   ],
   "source": [
    "import numpy as np\n",
    "import matplotlib.pyplot as plt\n",
    "import pandas as pd\n",
    "from matplotlib.ticker import (AutoMinorLocator, MultipleLocator)\n",
    "import time\n",
    "import random\n",
    "import math\n",
    "from multiprocessing import Process, Queue\n",
    "\n",
    "from keras.models import Sequential\n",
    "from keras.layers import Activation, Dense\n",
    "\n",
    "from keras.optimizers import SGD, adam, adagrad, rmsprop\n"
   ]
  },
  {
   "cell_type": "markdown",
   "metadata": {},
   "source": [
    "## importing own code"
   ]
  },
  {
   "cell_type": "code",
   "execution_count": 2,
   "metadata": {},
   "outputs": [],
   "source": [
    "from generateSpace import *\n",
    "from plotLattice import *\n",
    "from getTriangleLengths import *\n",
    "from potentialEnergyPerTrio import *\n",
    "from potentialEnergy import *\n",
    "from potentialEnergyPerParticle import *\n",
    "from numberOfCalculations import *\n",
    "from makeRandomDatabase import *\n",
    "from prepareDatabaseForMachineLearning import*"
   ]
  },
  {
   "cell_type": "markdown",
   "metadata": {},
   "source": [
    "## Writing own code"
   ]
  },
  {
   "cell_type": "code",
   "execution_count": 3,
   "metadata": {},
   "outputs": [],
   "source": [
    "def trainNetwork(network, trainingData, validationSplit, numberOfEpochs=50, batchSize=32, verboseSetting=-1):\n",
    "    \"\"\"\n",
    "    hjhgj\n",
    "    \n",
    "    network is the Keras network to be trained.\n",
    "    trainingData is the data to be trained with. It is a tupple with the index zero being the input data and index one being the target/output value.\n",
    "    validationData is the data used to do validation.  It is a tupple with the index zero being the input data and index one being the target/output value.\n",
    "    numberOfEpochs is the number of epochs the model will train for default is 50.\n",
    "    batchSize is the size of the batches during gradiant decent defaul is 32.\n",
    "    verboseSettings are the verbose settings default is -1 (which does nothing), 0 results in plots and above that normal rules apply.\n",
    "    \"\"\"\n",
    "    \n",
    "    #print(np.shape(trainingData[0]))\n",
    "    #print(np.shape(trainingData[0][0]))\n",
    "    #print(np.shape(trainingData[1]))\n",
    "    \n",
    "    #print(trainingData[0])\n",
    "    \n",
    "    fitDetails = network.fit(trainingData[0], trainingData[1], shuffle=True, batch_size=batchSize, validation_split = validationSplit, epochs=numberOfEpochs, verbose=max(0,verboseSetting))\n",
    "    \n",
    "    history = {'loss': fitDetails.history['loss'], 'val_loss': fitDetails.history['val_loss']}\n",
    "    \n",
    "    if verboseSetting>=0:\n",
    "        \n",
    "        maximumValue = max(max(history['loss']), max(history['val_loss']))\n",
    "        minimumValue = math.pow(math.floor(math.log(min(min(history['loss']), min(history['val_loss'])), 10)) - 1, 10)\n",
    "        \n",
    "        fig, ((ax1, ax2), (ax3, ax4)) = plt.subplots(nrows=2, ncols=2, figsize=(16, 16))\n",
    "        ax1.plot([i for i in range(1, numberOfEpochs + 1)], history['loss'], label='Training loss')\n",
    "        ax1.plot([i for i in range(1, numberOfEpochs + 1)], history['val_loss'], label='Validation loss')\n",
    "        ax1.legend()\n",
    "        ax1.set_xlim(1, numberOfEpochs)\n",
    "        ax1.set_ylim(0, maximumValue)\n",
    "        ax1.set_xlabel('Epochs')\n",
    "        ax1.set_ylabel('Loss')\n",
    "        ax1.set_title('Loss (training and validation) vs the number of epochs.')\n",
    "        \n",
    "        ax2.plot(history['loss'], history['val_loss'])\n",
    "        ax2.set_xlim(0, maximumValue)\n",
    "        ax2.set_ylim(0, maximumValue)\n",
    "        ax2.set_xlabel('Training loss')\n",
    "        ax2.set_ylabel('Validation loss')\n",
    "        ax2.set_title('Validation loss vs training loss.')\n",
    "        \n",
    "        ax3.plot([i for i in range(1, numberOfEpochs + 1)], history['loss'], label='Training loss')\n",
    "        ax3.plot([i for i in range(1, numberOfEpochs + 1)], history['val_loss'], label='Validation loss')\n",
    "        ax3.legend()\n",
    "        ax3.set_xlim(1, numberOfEpochs)\n",
    "        ax3.set_yscale('log')\n",
    "        ax3.set_ylim(minimumValue, maximumValue)\n",
    "        ax3.set_xlabel('Epochs')\n",
    "        ax3.set_ylabel('Loss')\n",
    "        ax3.set_title('Loss (training and validation) vs the number of epochs (logarithmic)')\n",
    "        \n",
    "        ax4.plot(history['loss'], history['val_loss'])\n",
    "        ax4.set_xscale('log')\n",
    "        ax4.set_xlim(minimumValue, maximumValue)\n",
    "        ax4.set_yscale('log')\n",
    "        ax4.set_ylim(minimumValue, maximumValue)\n",
    "        ax4.set_xlabel('Training loss')\n",
    "        ax4.set_ylabel('Validation loss')\n",
    "        ax4.set_title('Validation loss vs training loss (logarithmic).')\n",
    "        \n",
    "        math.pow(math.log(min(min(history['loss']), min(history['val_loss'])), 10), 10)\n",
    "        \n",
    "        plt.show()\n",
    "        history['figure'] = [fig, ax1, ax2, ax3, ax4]\n",
    "    \n",
    "    return history"
   ]
  },
  {
   "cell_type": "code",
   "execution_count": 4,
   "metadata": {},
   "outputs": [],
   "source": [
    "def plotAndPredict(model, dataFrame, indexNumber):\n",
    "    prediction = model.predict([[dataFrame['eigenvalues'][indexNumber]]])[0][0]\n",
    "    realValue = dataFrame['potentialEnergy'][indexNumber]\n",
    "    \n",
    "    plotLatticeFromDataFrame(dataFrame, indexNumber)\n",
    "    print('For index', indexNumber, 'Predicted', prediction, 'was', realValue)"
   ]
  },
  {
   "cell_type": "code",
   "execution_count": 5,
   "metadata": {},
   "outputs": [],
   "source": [
    "def makeDenseModel(inputSize, settings, learningRate, lossFunction='mape', useBias=False, kernalInitializer='he_uniform'):\n",
    "    \"\"\"\n",
    "    \n",
    "    \"\"\"\n",
    "    model = Sequential()\n",
    "    model.add(Dense(settings[0], input_dim=inputSize, use_bias=useBias, kernel_initializer=kernalInitializer))\n",
    "    model.add(Activation('relu'))\n",
    "    \n",
    "    for i in range(1, len(settings)):\n",
    "        model.add(Dense(settings[i], use_bias=useBias, kernel_initializer=kernalInitializer))\n",
    "        model.add(Activation('relu'))\n",
    "    \n",
    "    model.add(Dense(1, use_bias=useBias, kernel_initializer=kernalInitializer))\n",
    "    model.add(Activation('linear'))\n",
    "    \n",
    "    opt = adam(lr=learningRate)\n",
    "    model.compile(loss=lossFunction, optimizer=opt)#mse or mape\n",
    "    \n",
    "    return model\n"
   ]
  },
  {
   "cell_type": "code",
   "execution_count": 6,
   "metadata": {},
   "outputs": [],
   "source": [
    "def makeNetwork(inputSize, settings, learningRate, lossFunction='mse', kernalInitializer='he_uniform'):\n",
    "    \"\"\"\n",
    "    jhgjhgj\n",
    "    \"\"\"\n",
    "    model = Sequential()\n",
    "    model.add(Dense(settings[0][1], input_dim=inputSize, use_bias=settings[0][3], kernel_initializer=kernalInitializer))\n",
    "    model.add(Activation(settings[0][2]))\n",
    "    \n",
    "    for i in range(1, len(settings)):\n",
    "        setting = settings[i]#0 is kind of layer, rest are settings.\n",
    "        \n",
    "        if setting[0]=='Dense':# 1 is amount of nodes, 2 is kind of activation, 3 is bias\n",
    "            model.add(Dense(setting[1], use_bias=setting[3], kernel_initializer=kernalInitializer))\n",
    "            model.add(Activation(setting[2]))\n",
    "    \n",
    "    opt = adam(lr=learningRate)\n",
    "    model.compile(loss=lossFunction, optimizer=opt)#mse or mape\n",
    "    \n",
    "    return model"
   ]
  },
  {
   "cell_type": "markdown",
   "metadata": {},
   "source": [
    "# Getting data"
   ]
  },
  {
   "cell_type": "code",
   "execution_count": 7,
   "metadata": {},
   "outputs": [],
   "source": [
    "filename = 'combinedDataPrepared'#'combinedDataPrepared'\n",
    "orderOfMatrix = False# Make a list if you want to do the calculations yourself and make a other type of you want to import it\n",
    "\n",
    "if (type(orderOfMatrix) == list):\n",
    "    dataRaw = pd.read_json(filename + '.json', orient='columns')\n",
    "    dataRaw['particleCoordinates'] = dataRaw['particleCoordinates'].apply(np.array)\n",
    "    data = prepareDatabseForMachineLearningMultiprocessing(dataRaw, orderOfMatrix, filename + 'Prepared', amountOfCores)\n",
    "    #data['eigenvalues'] = data['eigenvalues'].apply(np.transpose)\n",
    "else:\n",
    "    data = pd.read_json(filename + '.json', orient='columns')\n",
    "    data['particleCoordinates'] = data['particleCoordinates'].apply(np.array)\n",
    "    #data['eigenvalues'] = data['eigenvalues'].apply(np.transpose)\n",
    "    #data['eigenvalues'] = data['eigenvalues'].apply(list)"
   ]
  },
  {
   "cell_type": "code",
   "execution_count": 8,
   "metadata": {},
   "outputs": [],
   "source": [
    "#data.head()"
   ]
  },
  {
   "cell_type": "code",
   "execution_count": 9,
   "metadata": {},
   "outputs": [
    {
     "data": {
      "text/html": [
       "<div>\n",
       "<style scoped>\n",
       "    .dataframe tbody tr th:only-of-type {\n",
       "        vertical-align: middle;\n",
       "    }\n",
       "\n",
       "    .dataframe tbody tr th {\n",
       "        vertical-align: top;\n",
       "    }\n",
       "\n",
       "    .dataframe thead th {\n",
       "        text-align: right;\n",
       "    }\n",
       "</style>\n",
       "<table border=\"1\" class=\"dataframe\">\n",
       "  <thead>\n",
       "    <tr style=\"text-align: right;\">\n",
       "      <th></th>\n",
       "      <th>index</th>\n",
       "      <th>widthOfCell</th>\n",
       "      <th>numberOfSurroundingCells</th>\n",
       "      <th>potentialEnergy</th>\n",
       "    </tr>\n",
       "  </thead>\n",
       "  <tbody>\n",
       "    <tr>\n",
       "      <th>count</th>\n",
       "      <td>230000.000000</td>\n",
       "      <td>230000.000000</td>\n",
       "      <td>230000.0</td>\n",
       "      <td>2.300000e+05</td>\n",
       "    </tr>\n",
       "    <tr>\n",
       "      <th>mean</th>\n",
       "      <td>114999.500000</td>\n",
       "      <td>25.487190</td>\n",
       "      <td>4.0</td>\n",
       "      <td>6.070610e+13</td>\n",
       "    </tr>\n",
       "    <tr>\n",
       "      <th>std</th>\n",
       "      <td>66395.425294</td>\n",
       "      <td>14.131367</td>\n",
       "      <td>0.0</td>\n",
       "      <td>2.831373e+16</td>\n",
       "    </tr>\n",
       "    <tr>\n",
       "      <th>min</th>\n",
       "      <td>0.000000</td>\n",
       "      <td>1.000061</td>\n",
       "      <td>4.0</td>\n",
       "      <td>-5.304560e-02</td>\n",
       "    </tr>\n",
       "    <tr>\n",
       "      <th>25%</th>\n",
       "      <td>57499.750000</td>\n",
       "      <td>13.237067</td>\n",
       "      <td>4.0</td>\n",
       "      <td>-2.850000e-08</td>\n",
       "    </tr>\n",
       "    <tr>\n",
       "      <th>50%</th>\n",
       "      <td>114999.500000</td>\n",
       "      <td>25.526970</td>\n",
       "      <td>4.0</td>\n",
       "      <td>1.575000e-07</td>\n",
       "    </tr>\n",
       "    <tr>\n",
       "      <th>75%</th>\n",
       "      <td>172499.250000</td>\n",
       "      <td>37.695345</td>\n",
       "      <td>4.0</td>\n",
       "      <td>4.950171e-04</td>\n",
       "    </tr>\n",
       "    <tr>\n",
       "      <th>max</th>\n",
       "      <td>229999.000000</td>\n",
       "      <td>49.999449</td>\n",
       "      <td>4.0</td>\n",
       "      <td>1.357338e+19</td>\n",
       "    </tr>\n",
       "  </tbody>\n",
       "</table>\n",
       "</div>"
      ],
      "text/plain": [
       "               index    widthOfCell  numberOfSurroundingCells  potentialEnergy\n",
       "count  230000.000000  230000.000000                  230000.0     2.300000e+05\n",
       "mean   114999.500000      25.487190                       4.0     6.070610e+13\n",
       "std     66395.425294      14.131367                       0.0     2.831373e+16\n",
       "min         0.000000       1.000061                       4.0    -5.304560e-02\n",
       "25%     57499.750000      13.237067                       4.0    -2.850000e-08\n",
       "50%    114999.500000      25.526970                       4.0     1.575000e-07\n",
       "75%    172499.250000      37.695345                       4.0     4.950171e-04\n",
       "max    229999.000000      49.999449                       4.0     1.357338e+19"
      ]
     },
     "execution_count": 9,
     "metadata": {},
     "output_type": "execute_result"
    }
   ],
   "source": [
    "data.describe()"
   ]
  },
  {
   "cell_type": "code",
   "execution_count": 10,
   "metadata": {},
   "outputs": [
    {
     "data": {
      "image/png": "[encoded data removed]",
      "text/plain": [
       "<Figure size 576x576 with 1 Axes>"
      ]
     },
     "metadata": {
      "needs_background": "light"
     },
     "output_type": "display_data"
    }
   ],
   "source": [
    "qLow = data['potentialEnergy'].quantile(0.001)\n",
    "qHi  = data['potentialEnergy'].quantile(0.90)\n",
    "dataFiltered = data[(data['potentialEnergy'] < qHi) & (data['potentialEnergy'] > qLow)]\n",
    "\n",
    "x = dataFiltered['potentialEnergy']\n",
    "fig, ax = plt.subplots(figsize=(8, 8))\n",
    "sortedX = np.sort(x) - 1.01 * min(x)\n",
    "ax.plot([100*i/len(x) for i in range(0, len(x))], sortedX)\n",
    "ax.set_xlim(0, 100)\n",
    "ax.set_yscale('log')\n",
    "ax.set_title('Plot of the energy per particle for each percentile.')\n",
    "ax.set_ylabel('Energy per particle')\n",
    "ax.set_xlabel('Percentile')\n",
    "plt.show()\n",
    "\n",
    "data = dataFiltered"
   ]
  },
  {
   "cell_type": "code",
   "execution_count": 11,
   "metadata": {},
   "outputs": [],
   "source": [
    "#data.head()"
   ]
  },
  {
   "cell_type": "code",
   "execution_count": 12,
   "metadata": {},
   "outputs": [
    {
     "data": {
      "text/html": [
       "<div>\n",
       "<style scoped>\n",
       "    .dataframe tbody tr th:only-of-type {\n",
       "        vertical-align: middle;\n",
       "    }\n",
       "\n",
       "    .dataframe tbody tr th {\n",
       "        vertical-align: top;\n",
       "    }\n",
       "\n",
       "    .dataframe thead th {\n",
       "        text-align: right;\n",
       "    }\n",
       "</style>\n",
       "<table border=\"1\" class=\"dataframe\">\n",
       "  <thead>\n",
       "    <tr style=\"text-align: right;\">\n",
       "      <th></th>\n",
       "      <th>index</th>\n",
       "      <th>widthOfCell</th>\n",
       "      <th>numberOfSurroundingCells</th>\n",
       "      <th>potentialEnergy</th>\n",
       "    </tr>\n",
       "  </thead>\n",
       "  <tbody>\n",
       "    <tr>\n",
       "      <th>count</th>\n",
       "      <td>206770.000000</td>\n",
       "      <td>206770.000000</td>\n",
       "      <td>206770.0</td>\n",
       "      <td>2.067700e+05</td>\n",
       "    </tr>\n",
       "    <tr>\n",
       "      <th>mean</th>\n",
       "      <td>114948.662369</td>\n",
       "      <td>27.614281</td>\n",
       "      <td>4.0</td>\n",
       "      <td>1.132964e-02</td>\n",
       "    </tr>\n",
       "    <tr>\n",
       "      <th>std</th>\n",
       "      <td>66373.605290</td>\n",
       "      <td>13.065884</td>\n",
       "      <td>0.0</td>\n",
       "      <td>5.710787e-02</td>\n",
       "    </tr>\n",
       "    <tr>\n",
       "      <th>min</th>\n",
       "      <td>0.000000</td>\n",
       "      <td>2.013963</td>\n",
       "      <td>4.0</td>\n",
       "      <td>-1.439068e-03</td>\n",
       "    </tr>\n",
       "    <tr>\n",
       "      <th>25%</th>\n",
       "      <td>57493.250000</td>\n",
       "      <td>16.555071</td>\n",
       "      <td>4.0</td>\n",
       "      <td>-4.020000e-08</td>\n",
       "    </tr>\n",
       "    <tr>\n",
       "      <th>50%</th>\n",
       "      <td>114949.500000</td>\n",
       "      <td>27.861409</td>\n",
       "      <td>4.0</td>\n",
       "      <td>9.800000e-09</td>\n",
       "    </tr>\n",
       "    <tr>\n",
       "      <th>75%</th>\n",
       "      <td>172413.750000</td>\n",
       "      <td>38.869106</td>\n",
       "      <td>4.0</td>\n",
       "      <td>4.189617e-05</td>\n",
       "    </tr>\n",
       "    <tr>\n",
       "      <th>max</th>\n",
       "      <td>229999.000000</td>\n",
       "      <td>49.999449</td>\n",
       "      <td>4.0</td>\n",
       "      <td>6.335761e-01</td>\n",
       "    </tr>\n",
       "  </tbody>\n",
       "</table>\n",
       "</div>"
      ],
      "text/plain": [
       "               index    widthOfCell  numberOfSurroundingCells  potentialEnergy\n",
       "count  206770.000000  206770.000000                  206770.0     2.067700e+05\n",
       "mean   114948.662369      27.614281                       4.0     1.132964e-02\n",
       "std     66373.605290      13.065884                       0.0     5.710787e-02\n",
       "min         0.000000       2.013963                       4.0    -1.439068e-03\n",
       "25%     57493.250000      16.555071                       4.0    -4.020000e-08\n",
       "50%    114949.500000      27.861409                       4.0     9.800000e-09\n",
       "75%    172413.750000      38.869106                       4.0     4.189617e-05\n",
       "max    229999.000000      49.999449                       4.0     6.335761e-01"
      ]
     },
     "execution_count": 12,
     "metadata": {},
     "output_type": "execute_result"
    }
   ],
   "source": [
    "data.describe()"
   ]
  },
  {
   "cell_type": "code",
   "execution_count": 13,
   "metadata": {},
   "outputs": [],
   "source": [
    "#data['potentialEnergy'] = data['potentialEnergy']-min(data['potentialEnergy'])\n",
    "\n",
    "trainingData = data.sample(frac=0.8)\n",
    "validationData = data.drop(trainingData.index)\n",
    "\n",
    "inputData = []\n",
    "targetData = []\n",
    "for i in trainingData.index:\n",
    "    inputData.append(trainingData['eigenvalues'][i])\n",
    "    targetData.append(trainingData['potentialEnergy'][i])\n",
    "\n",
    "trainingInput = [[inputData], [targetData]]\n",
    "\n",
    "inputData = []\n",
    "targetData = []\n",
    "for i in validationData.index:\n",
    "    inputData.append(validationData['eigenvalues'][i])\n",
    "    targetData.append(validationData['potentialEnergy'][i])\n",
    "\n",
    "validationInput = [[inputData], [targetData]]\n"
   ]
  },
  {
   "cell_type": "markdown",
   "metadata": {},
   "source": [
    "# Machine learning"
   ]
  },
  {
   "cell_type": "markdown",
   "metadata": {},
   "source": [
    "## Model 1"
   ]
  },
  {
   "cell_type": "code",
   "execution_count": 14,
   "metadata": {},
   "outputs": [
    {
     "name": "stdout",
     "output_type": "stream",
     "text": [
      "Model: \"sequential_1\"\n",
      "_________________________________________________________________\n",
      "Layer (type)                 Output Shape              Param #   \n",
      "=================================================================\n",
      "dense_1 (Dense)              (None, 64)                512       \n",
      "_________________________________________________________________\n",
      "activation_1 (Activation)    (None, 64)                0         \n",
      "_________________________________________________________________\n",
      "dense_2 (Dense)              (None, 64)                4096      \n",
      "_________________________________________________________________\n",
      "activation_2 (Activation)    (None, 64)                0         \n",
      "_________________________________________________________________\n",
      "dense_3 (Dense)              (None, 1)                 64        \n",
      "_________________________________________________________________\n",
      "activation_3 (Activation)    (None, 1)                 0         \n",
      "=================================================================\n",
      "Total params: 4,672\n",
      "Trainable params: 4,672\n",
      "Non-trainable params: 0\n",
      "_________________________________________________________________\n"
     ]
    }
   ],
   "source": [
    "inputSize = 8\n",
    "settings = [['Dense', 64, 'softplus', False], ['Dense', 64, 'softplus', False], ['Dense', 1, 'linear', False]]\n",
    "learningRate = 5*10**-4\n",
    "\n",
    "model = makeNetwork(inputSize, settings, learningRate)\n",
    "model.summary()"
   ]
  },
  {
   "cell_type": "code",
   "execution_count": null,
   "metadata": {},
   "outputs": [
    {
     "name": "stdout",
     "output_type": "stream",
     "text": [
      "Train on 132332 samples, validate on 33084 samples\n",
      "Epoch 1/100\n",
      "132332/132332 [==============================] - 14s 102us/step - loss: 0.0329 - val_loss: 9.6011e-04\n",
      "Epoch 2/100\n",
      "132332/132332 [==============================] - 12s 93us/step - loss: 0.0021 - val_loss: 0.0021\n",
      "Epoch 3/100\n",
      "132332/132332 [==============================] - 12s 93us/step - loss: 0.0015 - val_loss: 0.0054\n",
      "Epoch 4/100\n",
      "132332/132332 [==============================] - 13s 95us/step - loss: 0.0016 - val_loss: 0.0014\n",
      "Epoch 5/100\n",
      "132332/132332 [==============================] - 12s 93us/step - loss: 0.0015 - val_loss: 0.0011\n",
      "Epoch 6/100\n",
      "132332/132332 [==============================] - 12s 93us/step - loss: 0.0011 - val_loss: 4.4186e-04\n",
      "Epoch 7/100\n",
      "132332/132332 [==============================] - 12s 94us/step - loss: 9.8498e-04 - val_loss: 0.0057\n",
      "Epoch 8/100\n",
      "132332/132332 [==============================] - 12s 92us/step - loss: 8.3637e-04 - val_loss: 6.3220e-04\n",
      "Epoch 9/100\n",
      "132332/132332 [==============================] - 12s 93us/step - loss: 8.2406e-04 - val_loss: 2.7862e-04\n",
      "Epoch 10/100\n",
      "132332/132332 [==============================] - 12s 93us/step - loss: 6.0820e-04 - val_loss: 5.4029e-04\n",
      "Epoch 11/100\n",
      "132332/132332 [==============================] - 12s 93us/step - loss: 5.7999e-04 - val_loss: 3.0089e-04\n",
      "Epoch 12/100\n",
      "132332/132332 [==============================] - 12s 91us/step - loss: 4.7699e-04 - val_loss: 5.4658e-04\n",
      "Epoch 13/100\n",
      "132332/132332 [==============================] - 12s 91us/step - loss: 4.4389e-04 - val_loss: 3.1878e-04\n",
      "Epoch 14/100\n",
      "132332/132332 [==============================] - 12s 91us/step - loss: 4.1462e-04 - val_loss: 2.1847e-04\n",
      "Epoch 15/100\n",
      "132332/132332 [==============================] - 12s 90us/step - loss: 3.6109e-04 - val_loss: 2.9158e-04\n",
      "Epoch 16/100\n",
      "132332/132332 [==============================] - 12s 87us/step - loss: 3.5186e-04 - val_loss: 2.3596e-04\n",
      "Epoch 17/100\n",
      "132332/132332 [==============================] - 12s 89us/step - loss: 2.7408e-04 - val_loss: 2.5308e-04\n",
      "Epoch 18/100\n",
      "132332/132332 [==============================] - 12s 87us/step - loss: 2.5031e-04 - val_loss: 1.7911e-04\n",
      "Epoch 19/100\n",
      "132332/132332 [==============================] - 12s 88us/step - loss: 2.2400e-04 - val_loss: 1.3797e-04\n",
      "Epoch 20/100\n",
      "132332/132332 [==============================] - 13s 96us/step - loss: 1.9261e-04 - val_loss: 1.1689e-04\n",
      "Epoch 21/100\n",
      "132332/132332 [==============================] - 12s 91us/step - loss: 1.6360e-04 - val_loss: 1.9811e-04\n",
      "Epoch 22/100\n",
      "132332/132332 [==============================] - 12s 89us/step - loss: 1.4829e-04 - val_loss: 1.1301e-04\n",
      "Epoch 23/100\n",
      "132332/132332 [==============================] - 12s 88us/step - loss: 1.2699e-04 - val_loss: 1.4664e-04\n",
      "Epoch 24/100\n",
      "132332/132332 [==============================] - 12s 89us/step - loss: 1.1119e-04 - val_loss: 8.9188e-05\n",
      "Epoch 25/100\n",
      "132332/132332 [==============================] - 12s 92us/step - loss: 1.0570e-04 - val_loss: 7.2975e-05\n",
      "Epoch 26/100\n",
      "132332/132332 [==============================] - 12s 92us/step - loss: 1.0613e-04 - val_loss: 9.9306e-05\n",
      "Epoch 27/100\n",
      "132332/132332 [==============================] - 12s 93us/step - loss: 9.8777e-05 - val_loss: 7.5718e-05\n",
      "Epoch 28/100\n",
      "132332/132332 [==============================] - 14s 106us/step - loss: 9.6857e-05 - val_loss: 9.2388e-05\n",
      "Epoch 29/100\n",
      "132332/132332 [==============================] - 14s 103us/step - loss: 9.3721e-05 - val_loss: 9.6093e-05\n",
      "Epoch 30/100\n",
      "132332/132332 [==============================] - 14s 108us/step - loss: 9.3872e-05 - val_loss: 7.2172e-05\n",
      "Epoch 31/100\n",
      "132332/132332 [==============================] - 14s 104us/step - loss: 9.5526e-05 - val_loss: 1.4189e-04\n",
      "Epoch 32/100\n",
      "132332/132332 [==============================] - 14s 103us/step - loss: 8.7367e-05 - val_loss: 7.9668e-05\n",
      "Epoch 33/100\n",
      "132332/132332 [==============================] - 14s 103us/step - loss: 9.2361e-05 - val_loss: 8.2881e-05\n",
      "Epoch 34/100\n",
      "132332/132332 [==============================] - 13s 97us/step - loss: 8.4186e-05 - val_loss: 7.2095e-05\n",
      "Epoch 35/100\n",
      "132332/132332 [==============================] - 13s 100us/step - loss: 8.6709e-05 - val_loss: 6.8502e-05\n",
      "Epoch 36/100\n",
      "132332/132332 [==============================] - 15s 114us/step - loss: 8.5229e-05 - val_loss: 6.5837e-05\n",
      "Epoch 37/100\n",
      "132332/132332 [==============================] - 14s 103us/step - loss: 8.5927e-05 - val_loss: 7.6434e-05\n",
      "Epoch 38/100\n",
      "132332/132332 [==============================] - 13s 100us/step - loss: 8.0435e-05 - val_loss: 6.7473e-05\n",
      "Epoch 39/100\n",
      "132332/132332 [==============================] - 13s 98us/step - loss: 8.3257e-05 - val_loss: 6.1658e-05\n",
      "Epoch 40/100\n",
      "132332/132332 [==============================] - 14s 106us/step - loss: 8.1790e-05 - val_loss: 6.7460e-05\n",
      "Epoch 41/100\n",
      "132332/132332 [==============================] - 13s 99us/step - loss: 8.1316e-05 - val_loss: 7.8885e-05\n",
      "Epoch 42/100\n",
      "132332/132332 [==============================] - 13s 97us/step - loss: 8.0317e-05 - val_loss: 6.8109e-05\n",
      "Epoch 43/100\n",
      "132332/132332 [==============================] - 13s 97us/step - loss: 8.0521e-05 - val_loss: 6.3121e-05\n",
      "Epoch 44/100\n",
      "132332/132332 [==============================] - 13s 97us/step - loss: 8.2954e-05 - val_loss: 6.7804e-05\n",
      "Epoch 45/100\n",
      "132332/132332 [==============================] - 13s 100us/step - loss: 7.5727e-05 - val_loss: 6.2533e-05\n",
      "Epoch 46/100\n",
      "132332/132332 [==============================] - 13s 95us/step - loss: 7.9110e-05 - val_loss: 6.0007e-05\n",
      "Epoch 47/100\n",
      "132332/132332 [==============================] - 12s 94us/step - loss: 7.5158e-05 - val_loss: 6.5739e-05\n",
      "Epoch 48/100\n",
      "131840/132332 [============================>.] - ETA: 0s - loss: 7.5973e-05"
     ]
    }
   ],
   "source": [
    "trainNetwork(model, trainingInput, 0.2, numberOfEpochs=100, batchSize=32, verboseSetting=1)\n",
    "print()"
   ]
  },
  {
   "cell_type": "code",
   "execution_count": null,
   "metadata": {},
   "outputs": [],
   "source": [
    "for i in range(0,10):\n",
    "    plotAndPredict(model, validationData, validationData.index[i])"
   ]
  },
  {
   "cell_type": "markdown",
   "metadata": {},
   "source": [
    "## Model 2"
   ]
  },
  {
   "cell_type": "code",
   "execution_count": null,
   "metadata": {},
   "outputs": [],
   "source": [
    "inputSize = 8\n",
    "settings = [['Dense', 64, 'softplus', False], ['Dense', 64, 'softplus', True], ['Dense', 1, 'linear', False]]\n",
    "learningRate = 5*10**-4\n",
    "\n",
    "model = makeNetwork(inputSize, settings, learningRate)\n",
    "model.summary()"
   ]
  },
  {
   "cell_type": "code",
   "execution_count": null,
   "metadata": {},
   "outputs": [],
   "source": [
    "trainNetwork(model, trainingInput, 0.2, numberOfEpochs=100, batchSize=32, verboseSetting=1)\n",
    "print()"
   ]
  },
  {
   "cell_type": "code",
   "execution_count": null,
   "metadata": {},
   "outputs": [],
   "source": [
    "for i in range(0,10):\n",
    "    plotAndPredict(model, validationData, validationData.index[i])"
   ]
  },
  {
   "cell_type": "markdown",
   "metadata": {},
   "source": [
    "## Model 3"
   ]
  },
  {
   "cell_type": "code",
   "execution_count": null,
   "metadata": {},
   "outputs": [],
   "source": [
    "inputSize = 8\n",
    "settings = [['Dense', 64, 'softplus', False], ['Dense', 64, 'softplus', True], ['Dense', 1, 'linear', True]]\n",
    "learningRate = 5*10**-4\n",
    "\n",
    "model = makeNetwork(inputSize, settings, learningRate)\n",
    "model.summary()"
   ]
  },
  {
   "cell_type": "code",
   "execution_count": null,
   "metadata": {},
   "outputs": [],
   "source": [
    "trainNetwork(model, trainingInput, 0.2, numberOfEpochs=100, batchSize=32, verboseSetting=1)\n",
    "print()"
   ]
  },
  {
   "cell_type": "code",
   "execution_count": null,
   "metadata": {},
   "outputs": [],
   "source": [
    "for i in range(0,10):\n",
    "    plotAndPredict(model, validationData, validationData.index[i])"
   ]
  },
  {
   "cell_type": "markdown",
   "metadata": {},
   "source": [
    "## Model 4"
   ]
  },
  {
   "cell_type": "code",
   "execution_count": null,
   "metadata": {},
   "outputs": [],
   "source": [
    "inputSize = 8\n",
    "settings = [['Dense', 64, 'softplus', True], ['Dense', 64, 'softplus', True], ['Dense', 1, 'linear', True]]\n",
    "learningRate = 5*10**-4\n",
    "\n",
    "model = makeNetwork(inputSize, settings, learningRate)\n",
    "model.summary()"
   ]
  },
  {
   "cell_type": "code",
   "execution_count": null,
   "metadata": {},
   "outputs": [],
   "source": [
    "trainNetwork(model, trainingInput, 0.2, numberOfEpochs=100, batchSize=32, verboseSetting=1)\n",
    "print()"
   ]
  },
  {
   "cell_type": "code",
   "execution_count": null,
   "metadata": {},
   "outputs": [],
   "source": [
    "for i in range(0,10):\n",
    "    plotAndPredict(model, validationData, validationData.index[i])"
   ]
  }
 ],
 "metadata": {
  "kernelspec": {
   "display_name": "Python 3",
   "language": "python",
   "name": "python3"
  },
  "language_info": {
   "codemirror_mode": {
    "name": "ipython",
    "version": 3
   },
   "file_extension": ".py",
   "mimetype": "text/x-python",
   "name": "python",
   "nbconvert_exporter": "python",
   "pygments_lexer": "ipython3",
   "version": "3.7.7"
  }
 },
 "nbformat": 4,
 "nbformat_minor": 2
}
